{
  "nbformat": 4,
  "nbformat_minor": 0,
  "metadata": {
    "kernelspec": {
      "display_name": "Python 3",
      "language": "python",
      "name": "python3"
    },
    "language_info": {
      "codemirror_mode": {
        "name": "ipython",
        "version": 3
      },
      "file_extension": ".py",
      "mimetype": "text/x-python",
      "name": "python",
      "nbconvert_exporter": "python",
      "pygments_lexer": "ipython3",
      "version": "3.7.6"
    },
    "colab": {
      "name": "Ejericios: intro_to_python_senpai.ipynb",
      "provenance": [],
      "collapsed_sections": [],
      "toc_visible": true,
      "include_colab_link": true
    }
  },
  "cells": [
    {
      "cell_type": "markdown",
      "metadata": {
        "id": "view-in-github",
        "colab_type": "text"
      },
      "source": [
        "<a href=\"https://colab.research.google.com/github/gcausa/Learning_Python4AI/blob/master/Ejericios_intro_to_python_senpai.ipynb\" target=\"_parent\"><img src=\"https://colab.research.google.com/assets/colab-badge.svg\" alt=\"Open In Colab\"/></a>"
      ]
    },
    {
      "cell_type": "markdown",
      "metadata": {
        "ExecuteTime": {
          "end_time": "2020-08-08T17:04:41.598851Z",
          "start_time": "2020-08-08T17:04:41.596676Z"
        },
        "id": "yGoNu56pUxdG",
        "colab_type": "text"
      },
      "source": [
        "# **Introduccion a Python para el Analisis de datos**"
      ]
    },
    {
      "cell_type": "markdown",
      "metadata": {
        "id": "_sBnvpwlUxdN",
        "colab_type": "text"
      },
      "source": [
        "## **¿Porque usar Python para machine learning y data analisis?**"
      ]
    },
    {
      "cell_type": "markdown",
      "metadata": {
        "id": "kA1gKtpZUxdN",
        "colab_type": "text"
      },
      "source": [
        "### **Codigo simple, facil de leer y crear**\n",
        "Muy util para personas que recien empiezan en el mundo de la programción o vienen de otros contextos como puede ser economia o estadicstica"
      ]
    },
    {
      "cell_type": "markdown",
      "metadata": {
        "id": "GwjNFB06U_kc",
        "colab_type": "text"
      },
      "source": [
        "### **Independencia multiplataforma** \n",
        "No hay casi diferencia en correr Python en Mac OS , Linux o Windows mientras sea la misma version en nuestro caso Python 3.6"
      ]
    },
    {
      "cell_type": "markdown",
      "metadata": {
        "id": "ZNfVmKI5WBnL",
        "colab_type": "text"
      },
      "source": [
        "### **Codigo Abierto, gran comunidad, muchos recursos y apoyo**\n",
        "Python es un lenguaje en creciemiento es ahora unos de los lenguajes más populares y sigue creeciendo año a año\n",
        "\n",
        "La comunidad de Python es muy activa tanto para desarrollar librerias y framworks como para contestar dudas en sitios como Stack overflow "
      ]
    },
    {
      "cell_type": "markdown",
      "metadata": {
        "ExecuteTime": {
          "end_time": "2020-08-26T00:46:56.603172Z",
          "start_time": "2020-08-26T00:46:56.599276Z"
        },
        "id": "hRuJpEVQUxdQ",
        "colab_type": "text"
      },
      "source": [
        "### **Gran cantidad de librerias y frameworks**\n",
        "Pytorch, Keras, TensorFlow y Scikit-learn para Machine Learning\n",
        "\n",
        "Numpy para caluculos matematicos\n",
        "\n",
        "Pandas para data analisis\n",
        "\n",
        "Matplotlib, Seaborn para la visualizacián de datos"
      ]
    },
    {
      "cell_type": "markdown",
      "metadata": {
        "id": "0A-W85pYIcOd",
        "colab_type": "text"
      },
      "source": [
        "## **Python!**"
      ]
    },
    {
      "cell_type": "markdown",
      "metadata": {
        "id": "PFdQcEX4trpy",
        "colab_type": "text"
      },
      "source": [
        "### **Generalidades del lenguaje**"
      ]
    },
    {
      "cell_type": "markdown",
      "metadata": {
        "id": "BNlPwoDPyJc2",
        "colab_type": "text"
      },
      "source": [
        "#### **¿Que es esta plataforma?**"
      ]
    },
    {
      "cell_type": "markdown",
      "metadata": {
        "id": "t3AZWLujzMi0",
        "colab_type": "text"
      },
      "source": [
        "Google Colab es una herramienta que te permite ejecutar y programar en Python en tu navegador\n",
        "\n",
        "\n"
      ]
    },
    {
      "cell_type": "code",
      "metadata": {
        "id": "vF92nhP-yS8l",
        "colab_type": "code",
        "colab": {
          "base_uri": "https://localhost:8080/",
          "height": 34
        },
        "outputId": "f0df9845-9201-4602-87f7-d26518da0be3"
      },
      "source": [
        "!python -V"
      ],
      "execution_count": null,
      "outputs": [
        {
          "output_type": "stream",
          "text": [
            "Python 3.6.9\n"
          ],
          "name": "stdout"
        }
      ]
    },
    {
      "cell_type": "markdown",
      "metadata": {
        "id": "UEmLwIWGujSZ",
        "colab_type": "text"
      },
      "source": [
        "#### **Python es un lenguaje de tipado dinámico**"
      ]
    },
    {
      "cell_type": "markdown",
      "metadata": {
        "id": "JhB96vDWvTjV",
        "colab_type": "text"
      },
      "source": [
        "Lo cual significa que una misma variable puede tomar valores de distintos tipos y no hace falta definir el tipo de ninguna variable"
      ]
    },
    {
      "cell_type": "code",
      "metadata": {
        "id": "uNlYeBJFukxZ",
        "colab_type": "code",
        "colab": {
          "base_uri": "https://localhost:8080/",
          "height": 34
        },
        "outputId": "701d704d-2459-493d-fe96-e8ef2ce8c7a4"
      },
      "source": [
        "variable = 1\n",
        "type(variable)"
      ],
      "execution_count": null,
      "outputs": [
        {
          "output_type": "execute_result",
          "data": {
            "text/plain": [
              "int"
            ]
          },
          "metadata": {
            "tags": []
          },
          "execution_count": 2
        }
      ]
    },
    {
      "cell_type": "code",
      "metadata": {
        "id": "llxwHxckupBW",
        "colab_type": "code",
        "colab": {
          "base_uri": "https://localhost:8080/",
          "height": 34
        },
        "outputId": "74fc9460-7811-4a04-9016-6c2068f65554"
      },
      "source": [
        "variable = \"str\"\n",
        "type(variable)"
      ],
      "execution_count": null,
      "outputs": [
        {
          "output_type": "execute_result",
          "data": {
            "text/plain": [
              "str"
            ]
          },
          "metadata": {
            "tags": []
          },
          "execution_count": 3
        }
      ]
    },
    {
      "cell_type": "markdown",
      "metadata": {
        "id": "x2NeflMYu1jr",
        "colab_type": "text"
      },
      "source": [
        "#### **Python usa la identación para definir bloques de codigo**"
      ]
    },
    {
      "cell_type": "markdown",
      "metadata": {
        "id": "KH_Rt7b7vRQJ",
        "colab_type": "text"
      },
      "source": [
        "Esto significa que la agrupación de instrucciones se hace mediante indentación en vez de llaves de apertura y cierre\n",
        "\n",
        "Veamos un ejemplo del mismo programa escrito en C y en Python\n",
        "\n",
        "**C**\n",
        "```\n",
        "int main() {\n",
        "   printf(\"Hello, World!\");\n",
        "   return 0;\n",
        "}\n",
        "```\n",
        "\n",
        "Python\n",
        "```\n",
        "def main():\n",
        "  print(\"Hello, World!\")\n",
        "```\n",
        "\n",
        "\n",
        "\n",
        "\n",
        "\n"
      ]
    },
    {
      "cell_type": "markdown",
      "metadata": {
        "id": "bAQz9njewnKU",
        "colab_type": "text"
      },
      "source": [
        "Mientras que en C, la identacion es una practica muy buena, está no es obligatoria, en Python estas obligado a hacerla, lo cual resulta en codigo más prolijo y legible, sin tener que estar contando llaves de cierre XD"
      ]
    },
    {
      "cell_type": "markdown",
      "metadata": {
        "id": "TGZ_L_jMJRaB",
        "colab_type": "text"
      },
      "source": [
        "### **Tipos de Datos Basicos**"
      ]
    },
    {
      "cell_type": "markdown",
      "metadata": {
        "id": "ES2DxLx8KiQ8",
        "colab_type": "text"
      },
      "source": [
        "#### **Numbers**"
      ]
    },
    {
      "cell_type": "code",
      "metadata": {
        "id": "QrXZG6keKvCg",
        "colab_type": "code",
        "colab": {
          "base_uri": "https://localhost:8080/",
          "height": 34
        },
        "outputId": "78fbc293-74f7-45d1-e5c1-e681cc20a45c"
      },
      "source": [
        "# suma\n",
        "2 + 3"
      ],
      "execution_count": null,
      "outputs": [
        {
          "output_type": "execute_result",
          "data": {
            "text/plain": [
              "5"
            ]
          },
          "metadata": {
            "tags": []
          },
          "execution_count": 4
        }
      ]
    },
    {
      "cell_type": "code",
      "metadata": {
        "id": "u-WjtX7UKxIF",
        "colab_type": "code",
        "colab": {
          "base_uri": "https://localhost:8080/",
          "height": 34
        },
        "outputId": "2537f1b0-b168-4de2-fa2c-f78bec545ca1"
      },
      "source": [
        "# resta\n",
        "3.331 - 72"
      ],
      "execution_count": null,
      "outputs": [
        {
          "output_type": "execute_result",
          "data": {
            "text/plain": [
              "-68.669"
            ]
          },
          "metadata": {
            "tags": []
          },
          "execution_count": 5
        }
      ]
    },
    {
      "cell_type": "code",
      "metadata": {
        "id": "29MGzWx2KxKl",
        "colab_type": "code",
        "colab": {
          "base_uri": "https://localhost:8080/",
          "height": 34
        },
        "outputId": "06412cd4-d562-482a-ec89-0c25d686f005"
      },
      "source": [
        "# multiplicación\n",
        "5 * 3"
      ],
      "execution_count": null,
      "outputs": [
        {
          "output_type": "execute_result",
          "data": {
            "text/plain": [
              "15"
            ]
          },
          "metadata": {
            "tags": []
          },
          "execution_count": 6
        }
      ]
    },
    {
      "cell_type": "code",
      "metadata": {
        "id": "fcuqTY36LLE8",
        "colab_type": "code",
        "colab": {
          "base_uri": "https://localhost:8080/",
          "height": 34
        },
        "outputId": "05e22297-ea83-461a-c381-eb116a77b017"
      },
      "source": [
        "# división\n",
        "5 / 3"
      ],
      "execution_count": null,
      "outputs": [
        {
          "output_type": "execute_result",
          "data": {
            "text/plain": [
              "1.6666666666666667"
            ]
          },
          "metadata": {
            "tags": []
          },
          "execution_count": 7
        }
      ]
    },
    {
      "cell_type": "code",
      "metadata": {
        "id": "qet8V4m8KxMu",
        "colab_type": "code",
        "colab": {
          "base_uri": "https://localhost:8080/",
          "height": 34
        },
        "outputId": "6d6caaa6-b6f6-4888-e418-85b5b2c7e305"
      },
      "source": [
        "# división entera\n",
        "7 // 3"
      ],
      "execution_count": null,
      "outputs": [
        {
          "output_type": "execute_result",
          "data": {
            "text/plain": [
              "2"
            ]
          },
          "metadata": {
            "tags": []
          },
          "execution_count": 8
        }
      ]
    },
    {
      "cell_type": "code",
      "metadata": {
        "id": "wIR_77FlLKC3",
        "colab_type": "code",
        "colab": {
          "base_uri": "https://localhost:8080/",
          "height": 34
        },
        "outputId": "629d7331-2ff7-4d53-c699-70a284331402"
      },
      "source": [
        "# módulo\n",
        "7 % 3"
      ],
      "execution_count": null,
      "outputs": [
        {
          "output_type": "execute_result",
          "data": {
            "text/plain": [
              "1"
            ]
          },
          "metadata": {
            "tags": []
          },
          "execution_count": 10
        }
      ]
    },
    {
      "cell_type": "code",
      "metadata": {
        "id": "0DAosUR0K3TY",
        "colab_type": "code",
        "colab": {
          "base_uri": "https://localhost:8080/",
          "height": 34
        },
        "outputId": "a9695263-d3ad-4d9f-e2d9-940b80af8c5e"
      },
      "source": [
        "# potenciación\n",
        "2 ** 2"
      ],
      "execution_count": null,
      "outputs": [
        {
          "output_type": "execute_result",
          "data": {
            "text/plain": [
              "4"
            ]
          },
          "metadata": {
            "tags": []
          },
          "execution_count": 11
        }
      ]
    },
    {
      "cell_type": "code",
      "metadata": {
        "id": "ZSWu4338Wl0A",
        "colab_type": "code",
        "colab": {
          "base_uri": "https://localhost:8080/",
          "height": 34
        },
        "outputId": "53b7f7df-92f8-4407-e26b-298320340a32"
      },
      "source": [
        "2 ** (1/2)"
      ],
      "execution_count": null,
      "outputs": [
        {
          "output_type": "execute_result",
          "data": {
            "text/plain": [
              "1.4142135623730951"
            ]
          },
          "metadata": {
            "tags": []
          },
          "execution_count": 12
        }
      ]
    },
    {
      "cell_type": "code",
      "metadata": {
        "id": "TOpun9jDqKOM",
        "colab_type": "code",
        "colab": {
          "base_uri": "https://localhost:8080/",
          "height": 34
        },
        "outputId": "6dd495c1-4fd9-4d71-cc0a-6dbde6121be8"
      },
      "source": [
        "# redondeo\n",
        "round(8.563,2)"
      ],
      "execution_count": null,
      "outputs": [
        {
          "output_type": "execute_result",
          "data": {
            "text/plain": [
              "8.56"
            ]
          },
          "metadata": {
            "tags": []
          },
          "execution_count": 13
        }
      ]
    },
    {
      "cell_type": "code",
      "metadata": {
        "id": "uGGpZKByWtV9",
        "colab_type": "code",
        "colab": {
          "base_uri": "https://localhost:8080/",
          "height": 34
        },
        "outputId": "b0f5adda-6b36-4056-cd1b-1591a1eeefbc"
      },
      "source": [
        "round(8.563,0)"
      ],
      "execution_count": null,
      "outputs": [
        {
          "output_type": "execute_result",
          "data": {
            "text/plain": [
              "9.0"
            ]
          },
          "metadata": {
            "tags": []
          },
          "execution_count": 14
        }
      ]
    },
    {
      "cell_type": "code",
      "metadata": {
        "id": "Zcz8spExuA1l",
        "colab_type": "code",
        "colab": {
          "base_uri": "https://localhost:8080/",
          "height": 34
        },
        "outputId": "07986b2d-f137-4b7f-8e2e-80d3704a901f"
      },
      "source": [
        "# convertir float a integer\n",
        "int(8.7371)"
      ],
      "execution_count": null,
      "outputs": [
        {
          "output_type": "execute_result",
          "data": {
            "text/plain": [
              "8"
            ]
          },
          "metadata": {
            "tags": []
          },
          "execution_count": 15
        }
      ]
    },
    {
      "cell_type": "markdown",
      "metadata": {
        "id": "YI1JEmvRV7DU",
        "colab_type": "text"
      },
      "source": [
        "Más info sobre números y operaciones\n",
        "\n",
        "https://docs.python.org/3/tutorial/introduction.html#numbers\n",
        "\n",
        "https://www.w3schools.com/python/python_operators.asp\n",
        "\n"
      ]
    },
    {
      "cell_type": "markdown",
      "metadata": {
        "id": "E4Zj3I7BOalu",
        "colab_type": "text"
      },
      "source": [
        "#### **Booleans**"
      ]
    },
    {
      "cell_type": "code",
      "metadata": {
        "id": "FkP-SB1FOfNE",
        "colab_type": "code",
        "colab": {}
      },
      "source": [
        "# definir variables\n",
        "t = True\n",
        "f = False"
      ],
      "execution_count": null,
      "outputs": []
    },
    {
      "cell_type": "markdown",
      "metadata": {
        "id": "5z-6fn_AX8g6",
        "colab_type": "text"
      },
      "source": [
        "Conjunción"
      ]
    },
    {
      "cell_type": "code",
      "metadata": {
        "id": "pkz4HW-O0-Lo",
        "colab_type": "code",
        "colab": {
          "base_uri": "https://localhost:8080/",
          "height": 34
        },
        "outputId": "a9cf8904-e9f6-4ce7-e642-0f2890390428"
      },
      "source": [
        "t and t"
      ],
      "execution_count": null,
      "outputs": [
        {
          "output_type": "execute_result",
          "data": {
            "text/plain": [
              "True"
            ]
          },
          "metadata": {
            "tags": []
          },
          "execution_count": 18
        }
      ]
    },
    {
      "cell_type": "code",
      "metadata": {
        "id": "7zI1VqEd0-dJ",
        "colab_type": "code",
        "colab": {
          "base_uri": "https://localhost:8080/",
          "height": 34
        },
        "outputId": "0a885f07-797c-44f8-e89c-9d6d55c72b54"
      },
      "source": [
        "t & t"
      ],
      "execution_count": null,
      "outputs": [
        {
          "output_type": "execute_result",
          "data": {
            "text/plain": [
              "True"
            ]
          },
          "metadata": {
            "tags": []
          },
          "execution_count": 19
        }
      ]
    },
    {
      "cell_type": "markdown",
      "metadata": {
        "id": "j-RB8PHlYMRH",
        "colab_type": "text"
      },
      "source": [
        "Disyunción"
      ]
    },
    {
      "cell_type": "code",
      "metadata": {
        "id": "mDZ2jAQTYYKy",
        "colab_type": "code",
        "colab": {
          "base_uri": "https://localhost:8080/",
          "height": 34
        },
        "outputId": "0b933813-0480-4950-9874-f76040a112c1"
      },
      "source": [
        "t or f"
      ],
      "execution_count": null,
      "outputs": [
        {
          "output_type": "execute_result",
          "data": {
            "text/plain": [
              "True"
            ]
          },
          "metadata": {
            "tags": []
          },
          "execution_count": 20
        }
      ]
    },
    {
      "cell_type": "code",
      "metadata": {
        "id": "R3b937Dy0_xJ",
        "colab_type": "code",
        "colab": {
          "base_uri": "https://localhost:8080/",
          "height": 34
        },
        "outputId": "50b79293-9ec4-47a8-bc83-32505f457c0d"
      },
      "source": [
        "t | f"
      ],
      "execution_count": null,
      "outputs": [
        {
          "output_type": "execute_result",
          "data": {
            "text/plain": [
              "True"
            ]
          },
          "metadata": {
            "tags": []
          },
          "execution_count": 21
        }
      ]
    },
    {
      "cell_type": "markdown",
      "metadata": {
        "id": "z0CgxuRCYf_r",
        "colab_type": "text"
      },
      "source": [
        "Negación"
      ]
    },
    {
      "cell_type": "code",
      "metadata": {
        "id": "o6MfvBmfO6NT",
        "colab_type": "code",
        "colab": {
          "base_uri": "https://localhost:8080/",
          "height": 34
        },
        "outputId": "d2492e06-ce37-41e0-a0f4-b77143f34ae5"
      },
      "source": [
        "not f"
      ],
      "execution_count": null,
      "outputs": [
        {
          "output_type": "execute_result",
          "data": {
            "text/plain": [
              "True"
            ]
          },
          "metadata": {
            "tags": []
          },
          "execution_count": 23
        }
      ]
    },
    {
      "cell_type": "markdown",
      "metadata": {
        "id": "cfreaEcaZBp7",
        "colab_type": "text"
      },
      "source": [
        "Comparaciones"
      ]
    },
    {
      "cell_type": "code",
      "metadata": {
        "id": "bjRs5YqvYq-q",
        "colab_type": "code",
        "colab": {
          "base_uri": "https://localhost:8080/",
          "height": 34
        },
        "outputId": "428ddd2e-c5f4-4c00-af07-6ca5dde2b4b9"
      },
      "source": [
        "t == f"
      ],
      "execution_count": null,
      "outputs": [
        {
          "output_type": "execute_result",
          "data": {
            "text/plain": [
              "False"
            ]
          },
          "metadata": {
            "tags": []
          },
          "execution_count": 24
        }
      ]
    },
    {
      "cell_type": "code",
      "metadata": {
        "id": "9lDMLOpDYrB3",
        "colab_type": "code",
        "colab": {
          "base_uri": "https://localhost:8080/",
          "height": 34
        },
        "outputId": "659c90ff-7b2b-43b4-d9df-bb39384b41ee"
      },
      "source": [
        "t != f"
      ],
      "execution_count": null,
      "outputs": [
        {
          "output_type": "execute_result",
          "data": {
            "text/plain": [
              "True"
            ]
          },
          "metadata": {
            "tags": []
          },
          "execution_count": 25
        }
      ]
    },
    {
      "cell_type": "code",
      "metadata": {
        "id": "oXwQEEOWYvwA",
        "colab_type": "code",
        "colab": {
          "base_uri": "https://localhost:8080/",
          "height": 34
        },
        "outputId": "3a1e9974-037b-45d4-9973-41e303f29484"
      },
      "source": [
        "2 > 3"
      ],
      "execution_count": null,
      "outputs": [
        {
          "output_type": "execute_result",
          "data": {
            "text/plain": [
              "False"
            ]
          },
          "metadata": {
            "tags": []
          },
          "execution_count": 26
        }
      ]
    },
    {
      "cell_type": "code",
      "metadata": {
        "id": "F30AUebPXVZt",
        "colab_type": "code",
        "colab": {
          "base_uri": "https://localhost:8080/",
          "height": 34
        },
        "outputId": "38484ada-89ec-4dd9-8fc8-9100085176b2"
      },
      "source": [
        "2 >= 3"
      ],
      "execution_count": null,
      "outputs": [
        {
          "output_type": "execute_result",
          "data": {
            "text/plain": [
              "False"
            ]
          },
          "metadata": {
            "tags": []
          },
          "execution_count": 27
        }
      ]
    },
    {
      "cell_type": "code",
      "metadata": {
        "id": "AGNhffTzXVWv",
        "colab_type": "code",
        "colab": {
          "base_uri": "https://localhost:8080/",
          "height": 34
        },
        "outputId": "1a6d2d92-bd38-4884-9dfc-f053b4b5d556"
      },
      "source": [
        "2 < 3"
      ],
      "execution_count": null,
      "outputs": [
        {
          "output_type": "execute_result",
          "data": {
            "text/plain": [
              "True"
            ]
          },
          "metadata": {
            "tags": []
          },
          "execution_count": 28
        }
      ]
    },
    {
      "cell_type": "markdown",
      "metadata": {
        "id": "cHPe0U_hZDwa",
        "colab_type": "text"
      },
      "source": [
        "Todo junto"
      ]
    },
    {
      "cell_type": "code",
      "metadata": {
        "id": "E6IpdjNJPHgZ",
        "colab_type": "code",
        "colab": {
          "base_uri": "https://localhost:8080/",
          "height": 34
        },
        "outputId": "365325d2-f65a-406a-fa53-16b09e38a525"
      },
      "source": [
        "((2 < 3) and ( 4 > 5)) or (2 > 3)"
      ],
      "execution_count": null,
      "outputs": [
        {
          "output_type": "execute_result",
          "data": {
            "text/plain": [
              "False"
            ]
          },
          "metadata": {
            "tags": []
          },
          "execution_count": 30
        }
      ]
    },
    {
      "cell_type": "markdown",
      "metadata": {
        "id": "NB0Y73bRZK1n",
        "colab_type": "text"
      },
      "source": [
        "Para mas informacion sobre Booleans y sus operadores \n",
        "\n",
        "https://www.digitalocean.com/community/tutorials/understanding-boolean-logic-in-python-3"
      ]
    },
    {
      "cell_type": "markdown",
      "metadata": {
        "id": "YSLPmRoRJYlw",
        "colab_type": "text"
      },
      "source": [
        "#### **Strings**\n"
      ]
    },
    {
      "cell_type": "code",
      "metadata": {
        "id": "fA54-S8lIbV9",
        "colab_type": "code",
        "colab": {}
      },
      "source": [
        "# definir 2 strings\n",
        "v1 = \"Hola\"\n",
        "v2 = \"Chau\""
      ],
      "execution_count": null,
      "outputs": []
    },
    {
      "cell_type": "markdown",
      "metadata": {
        "id": "JEP-12adNsTs",
        "colab_type": "text"
      },
      "source": [
        "Concatenar Strings"
      ]
    },
    {
      "cell_type": "code",
      "metadata": {
        "id": "CCsH_-mTJfVt",
        "colab_type": "code",
        "colab": {
          "base_uri": "https://localhost:8080/",
          "height": 35
        },
        "outputId": "a70a2224-be12-4e75-b173-e125443f7b3a"
      },
      "source": [
        "# +\n",
        "v1 + \" \" + v2"
      ],
      "execution_count": null,
      "outputs": [
        {
          "output_type": "execute_result",
          "data": {
            "application/vnd.google.colaboratory.intrinsic+json": {
              "type": "string"
            },
            "text/plain": [
              "'Hola Chau'"
            ]
          },
          "metadata": {
            "tags": []
          },
          "execution_count": 33
        }
      ]
    },
    {
      "cell_type": "code",
      "metadata": {
        "id": "Ruvb5WR8M7mk",
        "colab_type": "code",
        "colab": {}
      },
      "source": [
        "# format"
      ],
      "execution_count": null,
      "outputs": []
    },
    {
      "cell_type": "code",
      "metadata": {
        "id": "dm0roDPvYEtm",
        "colab_type": "code",
        "colab": {
          "base_uri": "https://localhost:8080/",
          "height": 35
        },
        "outputId": "78556ce3-604f-4efc-fe8e-77543b0028a8"
      },
      "source": [
        "\"{} {}\".format(v1,v2)"
      ],
      "execution_count": null,
      "outputs": [
        {
          "output_type": "execute_result",
          "data": {
            "application/vnd.google.colaboratory.intrinsic+json": {
              "type": "string"
            },
            "text/plain": [
              "'Hola Chau'"
            ]
          },
          "metadata": {
            "tags": []
          },
          "execution_count": 34
        }
      ]
    },
    {
      "cell_type": "code",
      "metadata": {
        "id": "VQngOw_nJfee",
        "colab_type": "code",
        "colab": {
          "base_uri": "https://localhost:8080/",
          "height": 35
        },
        "outputId": "d1523e87-8869-4580-cc1c-3704aad0cfca"
      },
      "source": [
        "# f-string\n",
        "f\"{v1} {v2}\""
      ],
      "execution_count": null,
      "outputs": [
        {
          "output_type": "execute_result",
          "data": {
            "application/vnd.google.colaboratory.intrinsic+json": {
              "type": "string"
            },
            "text/plain": [
              "'Hola Chau'"
            ]
          },
          "metadata": {
            "tags": []
          },
          "execution_count": 35
        }
      ]
    },
    {
      "cell_type": "markdown",
      "metadata": {
        "id": "KqKLBreWNxsr",
        "colab_type": "text"
      },
      "source": [
        "Me quedo con la f-string, la manera más clara y eficiente de concatenar strings en Python\n",
        "\n"
      ]
    },
    {
      "cell_type": "code",
      "metadata": {
        "id": "-TK_8OhcJqiB",
        "colab_type": "code",
        "colab": {}
      },
      "source": [
        "f = f\"{v1} {v2}\""
      ],
      "execution_count": null,
      "outputs": []
    },
    {
      "cell_type": "code",
      "metadata": {
        "id": "n0_n2jycYW7e",
        "colab_type": "code",
        "colab": {
          "base_uri": "https://localhost:8080/",
          "height": 35
        },
        "outputId": "9f11c645-a54f-4400-fc96-192e663a8668"
      },
      "source": [
        "f"
      ],
      "execution_count": null,
      "outputs": [
        {
          "output_type": "execute_result",
          "data": {
            "application/vnd.google.colaboratory.intrinsic+json": {
              "type": "string"
            },
            "text/plain": [
              "'Hola Chau'"
            ]
          },
          "metadata": {
            "tags": []
          },
          "execution_count": 37
        }
      ]
    },
    {
      "cell_type": "markdown",
      "metadata": {
        "id": "ZRbPoGBFN6i-",
        "colab_type": "text"
      },
      "source": [
        "Operaciones sobre strings"
      ]
    },
    {
      "cell_type": "code",
      "metadata": {
        "id": "ejgjpqm_Jqkm",
        "colab_type": "code",
        "colab": {
          "base_uri": "https://localhost:8080/",
          "height": 34
        },
        "outputId": "bd34262f-ff12-4990-b843-224c8a9bb19f"
      },
      "source": [
        "# type\n",
        "type(f)"
      ],
      "execution_count": null,
      "outputs": [
        {
          "output_type": "execute_result",
          "data": {
            "text/plain": [
              "str"
            ]
          },
          "metadata": {
            "tags": []
          },
          "execution_count": 38
        }
      ]
    },
    {
      "cell_type": "code",
      "metadata": {
        "id": "SXHzVs5EKKt6",
        "colab_type": "code",
        "colab": {
          "base_uri": "https://localhost:8080/",
          "height": 35
        },
        "outputId": "ef5c0a90-ee74-43c0-d270-e72c491f90f8"
      },
      "source": [
        "# minuscula\n",
        "f.lower()"
      ],
      "execution_count": null,
      "outputs": [
        {
          "output_type": "execute_result",
          "data": {
            "application/vnd.google.colaboratory.intrinsic+json": {
              "type": "string"
            },
            "text/plain": [
              "'hola chau'"
            ]
          },
          "metadata": {
            "tags": []
          },
          "execution_count": 39
        }
      ]
    },
    {
      "cell_type": "code",
      "metadata": {
        "id": "g6VT8FvuiN4F",
        "colab_type": "code",
        "colab": {
          "base_uri": "https://localhost:8080/",
          "height": 35
        },
        "outputId": "67fef9cf-3f2f-4250-c2ec-a61bd9c0a1db"
      },
      "source": [
        "# capitalizar \n",
        "\"hola\".capitalize()"
      ],
      "execution_count": null,
      "outputs": [
        {
          "output_type": "execute_result",
          "data": {
            "application/vnd.google.colaboratory.intrinsic+json": {
              "type": "string"
            },
            "text/plain": [
              "'Hola'"
            ]
          },
          "metadata": {
            "tags": []
          },
          "execution_count": 40
        }
      ]
    },
    {
      "cell_type": "code",
      "metadata": {
        "id": "H253UbDfKK3z",
        "colab_type": "code",
        "colab": {
          "base_uri": "https://localhost:8080/",
          "height": 35
        },
        "outputId": "fe53d904-316b-43ee-ddc2-9bccd829d2dc"
      },
      "source": [
        "# mayuscula\n",
        "f.upper()"
      ],
      "execution_count": null,
      "outputs": [
        {
          "output_type": "execute_result",
          "data": {
            "application/vnd.google.colaboratory.intrinsic+json": {
              "type": "string"
            },
            "text/plain": [
              "'HOLA CHAU'"
            ]
          },
          "metadata": {
            "tags": []
          },
          "execution_count": 41
        }
      ]
    },
    {
      "cell_type": "code",
      "metadata": {
        "id": "-hJ40cSILmn5",
        "colab_type": "code",
        "colab": {
          "base_uri": "https://localhost:8080/",
          "height": 35
        },
        "outputId": "efb96737-6347-4feb-83ac-0ea7a5a8f872"
      },
      "source": [
        "# remplazar una palabra\n",
        "\"hola javier\".replace(\"hola\",\"chau\")"
      ],
      "execution_count": null,
      "outputs": [
        {
          "output_type": "execute_result",
          "data": {
            "application/vnd.google.colaboratory.intrinsic+json": {
              "type": "string"
            },
            "text/plain": [
              "'chau javier'"
            ]
          },
          "metadata": {
            "tags": []
          },
          "execution_count": 42
        }
      ]
    },
    {
      "cell_type": "code",
      "metadata": {
        "id": "NBfJLha81rb0",
        "colab_type": "code",
        "colab": {
          "base_uri": "https://localhost:8080/",
          "height": 35
        },
        "outputId": "c55c3383-df03-4fbd-afe4-abe539a55455"
      },
      "source": [
        "# remplazar una letra\n",
        "\"hola javier\".replace(\"a\",\"\")"
      ],
      "execution_count": null,
      "outputs": [
        {
          "output_type": "execute_result",
          "data": {
            "application/vnd.google.colaboratory.intrinsic+json": {
              "type": "string"
            },
            "text/plain": [
              "'hol jvier'"
            ]
          },
          "metadata": {
            "tags": []
          },
          "execution_count": 44
        }
      ]
    },
    {
      "cell_type": "code",
      "metadata": {
        "id": "yb8Q3I2R12C2",
        "colab_type": "code",
        "colab": {
          "base_uri": "https://localhost:8080/",
          "height": 35
        },
        "outputId": "1bd93852-e555-4c55-f8f3-fb5a9d43f470"
      },
      "source": [
        "# sacar espacios adelante y atras\n",
        "\"  hola  \".strip()"
      ],
      "execution_count": null,
      "outputs": [
        {
          "output_type": "execute_result",
          "data": {
            "application/vnd.google.colaboratory.intrinsic+json": {
              "type": "string"
            },
            "text/plain": [
              "'hola'"
            ]
          },
          "metadata": {
            "tags": []
          },
          "execution_count": 45
        }
      ]
    },
    {
      "cell_type": "code",
      "metadata": {
        "id": "Qy36IHZThM4-",
        "colab_type": "code",
        "colab": {
          "base_uri": "https://localhost:8080/",
          "height": 35
        },
        "outputId": "c6d0e2c7-c7fd-46dd-a46e-4f7052aa354c"
      },
      "source": [
        "# partir una string en una lista con espacio \n",
        "\"hola javier\".split()"
      ],
      "execution_count": null,
      "outputs": [
        {
          "output_type": "execute_result",
          "data": {
            "text/plain": [
              "['hola', 'javier']"
            ]
          },
          "metadata": {
            "tags": []
          },
          "execution_count": 46
        }
      ]
    },
    {
      "cell_type": "code",
      "metadata": {
        "id": "f9Weh8DL1_qs",
        "colab_type": "code",
        "colab": {
          "base_uri": "https://localhost:8080/",
          "height": 35
        },
        "outputId": "d68d7953-b2ef-46bf-f7ec-813f34cd2b3d"
      },
      "source": [
        "# partir una string en una lista con guion \n",
        "\"hola-javier\".split(\"-\")"
      ],
      "execution_count": null,
      "outputs": [
        {
          "output_type": "execute_result",
          "data": {
            "text/plain": [
              "['hola', 'javier']"
            ]
          },
          "metadata": {
            "tags": []
          },
          "execution_count": 47
        }
      ]
    },
    {
      "cell_type": "code",
      "metadata": {
        "id": "6lsoJKVr2CWT",
        "colab_type": "code",
        "colab": {
          "base_uri": "https://localhost:8080/",
          "height": 35
        },
        "outputId": "d22405b7-fbf1-4ad4-992d-55391dff163f"
      },
      "source": [
        "# largo\n",
        "len(\"casa\")"
      ],
      "execution_count": null,
      "outputs": [
        {
          "output_type": "execute_result",
          "data": {
            "text/plain": [
              "4"
            ]
          },
          "metadata": {
            "tags": []
          },
          "execution_count": 48
        }
      ]
    },
    {
      "cell_type": "code",
      "metadata": {
        "id": "NU0ki3Z02DyN",
        "colab_type": "code",
        "colab": {
          "base_uri": "https://localhost:8080/",
          "height": 35
        },
        "outputId": "1169a977-7f2e-48b5-bb29-a3cd080a780b"
      },
      "source": [
        "# partes de una string\n",
        "\"casa\"[1:]"
      ],
      "execution_count": null,
      "outputs": [
        {
          "output_type": "execute_result",
          "data": {
            "application/vnd.google.colaboratory.intrinsic+json": {
              "type": "string"
            },
            "text/plain": [
              "'asa'"
            ]
          },
          "metadata": {
            "tags": []
          },
          "execution_count": 53
        }
      ]
    },
    {
      "cell_type": "markdown",
      "metadata": {
        "id": "ycJCMbyVrL-l",
        "colab_type": "text"
      },
      "source": [
        "Operaciones entre strings"
      ]
    },
    {
      "cell_type": "code",
      "metadata": {
        "id": "4nzdt3xIRtD2",
        "colab_type": "code",
        "colab": {
          "base_uri": "https://localhost:8080/",
          "height": 35
        },
        "outputId": "63a6879d-c407-47b0-99cf-0b43f5e6cda9"
      },
      "source": [
        "# igualdad \n",
        "\"casa\" == \"casa\""
      ],
      "execution_count": null,
      "outputs": [
        {
          "output_type": "execute_result",
          "data": {
            "text/plain": [
              "True"
            ]
          },
          "metadata": {
            "tags": []
          },
          "execution_count": 54
        }
      ]
    },
    {
      "cell_type": "code",
      "metadata": {
        "id": "xX4iKJy9tAgo",
        "colab_type": "code",
        "colab": {
          "base_uri": "https://localhost:8080/",
          "height": 35
        },
        "outputId": "e63f426b-6523-4b4d-ebe9-23ec22badaba"
      },
      "source": [
        "# diferencia\n",
        "\"h\" != \"c\""
      ],
      "execution_count": null,
      "outputs": [
        {
          "output_type": "execute_result",
          "data": {
            "text/plain": [
              "True"
            ]
          },
          "metadata": {
            "tags": []
          },
          "execution_count": 55
        }
      ]
    },
    {
      "cell_type": "code",
      "metadata": {
        "id": "NbDiA9oLRy70",
        "colab_type": "code",
        "colab": {
          "base_uri": "https://localhost:8080/",
          "height": 35
        },
        "outputId": "1711ec26-d87c-4c02-93fe-ea9e5ddb5136"
      },
      "source": [
        "# string en otra string\n",
        "\"auto\" in \"javier tiene una casa\""
      ],
      "execution_count": null,
      "outputs": [
        {
          "output_type": "execute_result",
          "data": {
            "text/plain": [
              "False"
            ]
          },
          "metadata": {
            "tags": []
          },
          "execution_count": 57
        }
      ]
    },
    {
      "cell_type": "markdown",
      "metadata": {
        "id": "WVuUC5teN-no",
        "colab_type": "text"
      },
      "source": [
        "Se pueden convertir otros tipos de datos en strings facilmente"
      ]
    },
    {
      "cell_type": "code",
      "metadata": {
        "id": "0sNBs3KaOEJm",
        "colab_type": "code",
        "colab": {
          "base_uri": "https://localhost:8080/",
          "height": 35
        },
        "outputId": "ac7a0796-5251-413c-df65-fec73897aa18"
      },
      "source": [
        "# convertir en string \n",
        "str(1.29191)"
      ],
      "execution_count": null,
      "outputs": [
        {
          "output_type": "execute_result",
          "data": {
            "application/vnd.google.colaboratory.intrinsic+json": {
              "type": "string"
            },
            "text/plain": [
              "'1.29191'"
            ]
          },
          "metadata": {
            "tags": []
          },
          "execution_count": 59
        }
      ]
    },
    {
      "cell_type": "markdown",
      "metadata": {
        "id": "w7OZX2clMVeE",
        "colab_type": "text"
      },
      "source": [
        "Python tiene una cantidad enorme de operaciones para strings, para ver más ejemplos \n",
        "\n",
        "https://www.w3schools.com/python/python_ref_string.asp\n",
        "\n",
        "\n"
      ]
    },
    {
      "cell_type": "markdown",
      "metadata": {
        "id": "lwhF5A89tfeQ",
        "colab_type": "text"
      },
      "source": [
        "\n",
        "Para una vista más en profunidad sobre strings ir a la documentación oficial\n",
        "\n",
        "https://docs.python.org/3/tutorial/introduction.html#strings"
      ]
    },
    {
      "cell_type": "markdown",
      "metadata": {
        "id": "BQcqJ1aBVGtl",
        "colab_type": "text"
      },
      "source": [
        "### **Estructuras de datos**"
      ]
    },
    {
      "cell_type": "markdown",
      "metadata": {
        "id": "VKw6snTHVVvR",
        "colab_type": "text"
      },
      "source": [
        "#### **List**"
      ]
    },
    {
      "cell_type": "markdown",
      "metadata": {
        "id": "zG5JShjSkM0z",
        "colab_type": "text"
      },
      "source": [
        "**Con orden y con elementos repetidos, se pueden agregar y borrar elementos**"
      ]
    },
    {
      "cell_type": "code",
      "metadata": {
        "id": "jGnYEK8Gf61F",
        "colab_type": "code",
        "colab": {
          "base_uri": "https://localhost:8080/",
          "height": 35
        },
        "outputId": "2b8bb170-f0a6-43bb-f375-a80ff78e23d2"
      },
      "source": [
        "# listas con varios tipos\n",
        "[\"hola\",1,1.21,True]"
      ],
      "execution_count": null,
      "outputs": [
        {
          "output_type": "execute_result",
          "data": {
            "text/plain": [
              "['hola', 1, 1.21, True]"
            ]
          },
          "metadata": {
            "tags": []
          },
          "execution_count": 60
        }
      ]
    },
    {
      "cell_type": "code",
      "metadata": {
        "id": "1Pg6upYbf63p",
        "colab_type": "code",
        "colab": {
          "base_uri": "https://localhost:8080/",
          "height": 35
        },
        "outputId": "d68bcd4a-d2ba-4747-c7b3-54e9debbf4e4"
      },
      "source": [
        "# listas con mismo tipo\n",
        "[\"str\",\"str_1\"]"
      ],
      "execution_count": null,
      "outputs": [
        {
          "output_type": "execute_result",
          "data": {
            "text/plain": [
              "['str', 'str_1']"
            ]
          },
          "metadata": {
            "tags": []
          },
          "execution_count": 61
        }
      ]
    },
    {
      "cell_type": "markdown",
      "metadata": {
        "id": "FTGsW5g1h6zz",
        "colab_type": "text"
      },
      "source": [
        "extender una lista"
      ]
    },
    {
      "cell_type": "code",
      "metadata": {
        "id": "CN9N93Oof66I",
        "colab_type": "code",
        "colab": {
          "base_uri": "https://localhost:8080/",
          "height": 35
        },
        "outputId": "827ddd22-56c9-4861-b367-a6e66646d550"
      },
      "source": [
        "# +\n",
        "\n",
        "[\"hola\",1,1.21,True] + [\"str\",\"str_1\"]"
      ],
      "execution_count": null,
      "outputs": [
        {
          "output_type": "execute_result",
          "data": {
            "text/plain": [
              "['hola', 1, 1.21, True, 'str', 'str_1']"
            ]
          },
          "metadata": {
            "tags": []
          },
          "execution_count": 62
        }
      ]
    },
    {
      "cell_type": "code",
      "metadata": {
        "id": "BfYfPyW03AV-",
        "colab_type": "code",
        "colab": {
          "base_uri": "https://localhost:8080/",
          "height": 35
        },
        "outputId": "cb9733fa-2fee-431e-afe3-53cfe9b5b6ab"
      },
      "source": [
        "# extend \n",
        "a = [\"str\",\"str_1\"]\n",
        "b = [\"hola\",1,1.21,True]\n",
        "\n",
        "a.extend(b)\n",
        "a"
      ],
      "execution_count": null,
      "outputs": [
        {
          "output_type": "execute_result",
          "data": {
            "text/plain": [
              "['str', 'str_1', 'hola', 1, 1.21, True]"
            ]
          },
          "metadata": {
            "tags": []
          },
          "execution_count": 66
        }
      ]
    },
    {
      "cell_type": "markdown",
      "metadata": {
        "id": "fN4KU5cIh_5O",
        "colab_type": "text"
      },
      "source": [
        "agregar elemento a una lista"
      ]
    },
    {
      "cell_type": "code",
      "metadata": {
        "id": "fQuOTpkBh-Ve",
        "colab_type": "code",
        "colab": {
          "base_uri": "https://localhost:8080/",
          "height": 35
        },
        "outputId": "040d74ad-875c-4d10-9a8c-b5b581e87793"
      },
      "source": [
        "# append\n",
        "a = [\"uno\",\"dos\"]\n",
        "a.append(\"tres\")\n",
        "a"
      ],
      "execution_count": null,
      "outputs": [
        {
          "output_type": "execute_result",
          "data": {
            "text/plain": [
              "['uno', 'dos', 'tres']"
            ]
          },
          "metadata": {
            "tags": []
          },
          "execution_count": 69
        }
      ]
    },
    {
      "cell_type": "markdown",
      "metadata": {
        "id": "Ps-f5-YYid0v",
        "colab_type": "text"
      },
      "source": [
        "Acceder a los elementos"
      ]
    },
    {
      "cell_type": "code",
      "metadata": {
        "id": "ivIoa_Mk6svx",
        "colab_type": "code",
        "colab": {}
      },
      "source": [
        "lista = ['uno', 'dos', 'tres']"
      ],
      "execution_count": null,
      "outputs": []
    },
    {
      "cell_type": "code",
      "metadata": {
        "id": "lSUTMRPdaugy",
        "colab_type": "code",
        "colab": {
          "base_uri": "https://localhost:8080/",
          "height": 35
        },
        "outputId": "03a03620-0692-4809-999d-5e74cbc77d3c"
      },
      "source": [
        "lista[-1]"
      ],
      "execution_count": null,
      "outputs": [
        {
          "output_type": "execute_result",
          "data": {
            "application/vnd.google.colaboratory.intrinsic+json": {
              "type": "string"
            },
            "text/plain": [
              "'tres'"
            ]
          },
          "metadata": {
            "tags": []
          },
          "execution_count": 73
        }
      ]
    },
    {
      "cell_type": "code",
      "metadata": {
        "id": "BrCiJHGoa0v9",
        "colab_type": "code",
        "colab": {
          "base_uri": "https://localhost:8080/",
          "height": 34
        },
        "outputId": "d23dd8ac-06a5-4ccf-8f91-d17ad50882e9"
      },
      "source": [
        "len(lista)"
      ],
      "execution_count": null,
      "outputs": [
        {
          "output_type": "execute_result",
          "data": {
            "text/plain": [
              "3"
            ]
          },
          "metadata": {
            "tags": []
          },
          "execution_count": 74
        }
      ]
    },
    {
      "cell_type": "markdown",
      "metadata": {
        "id": "UceXsXIkim33",
        "colab_type": "text"
      },
      "source": [
        "Multi Listas"
      ]
    },
    {
      "cell_type": "code",
      "metadata": {
        "id": "JnZlYTvj6ta7",
        "colab_type": "code",
        "colab": {}
      },
      "source": [
        "lista_2 = [[\"uno\",\"dos\"],[\"tres\",\"cuatro\"]]"
      ],
      "execution_count": null,
      "outputs": []
    },
    {
      "cell_type": "code",
      "metadata": {
        "id": "tsUmBdiza-_b",
        "colab_type": "code",
        "colab": {
          "base_uri": "https://localhost:8080/",
          "height": 35
        },
        "outputId": "e128b035-a26f-4704-c8fe-d2ef8f58a2cd"
      },
      "source": [
        "lista_2[0][1]"
      ],
      "execution_count": null,
      "outputs": [
        {
          "output_type": "execute_result",
          "data": {
            "application/vnd.google.colaboratory.intrinsic+json": {
              "type": "string"
            },
            "text/plain": [
              "'dos'"
            ]
          },
          "metadata": {
            "tags": []
          },
          "execution_count": 77
        }
      ]
    },
    {
      "cell_type": "markdown",
      "metadata": {
        "id": "5IFo95-PjGYj",
        "colab_type": "text"
      },
      "source": [
        "Otros metodos"
      ]
    },
    {
      "cell_type": "code",
      "metadata": {
        "id": "SYpX9Myjis2x",
        "colab_type": "code",
        "colab": {
          "base_uri": "https://localhost:8080/",
          "height": 34
        },
        "outputId": "8b4af8e5-c07d-47d3-d262-57451955c63e"
      },
      "source": [
        "# ordenar elementos\n",
        "lista = [1,2,3,2,1]\n",
        "lista.sort(reverse=True)\n",
        "lista"
      ],
      "execution_count": null,
      "outputs": [
        {
          "output_type": "execute_result",
          "data": {
            "text/plain": [
              "[3, 2, 2, 1, 1]"
            ]
          },
          "metadata": {
            "tags": []
          },
          "execution_count": 82
        }
      ]
    },
    {
      "cell_type": "code",
      "metadata": {
        "id": "l_rfqjOxjLbt",
        "colab_type": "code",
        "colab": {
          "base_uri": "https://localhost:8080/",
          "height": 34
        },
        "outputId": "f6c8d1ef-8e4c-4689-aee2-21d0e9faf519"
      },
      "source": [
        "# dar vuelta la lista\n",
        "lista = [6,5,1,2,3,2,1]\n",
        "lista.reverse()\n",
        "lista"
      ],
      "execution_count": null,
      "outputs": [
        {
          "output_type": "execute_result",
          "data": {
            "text/plain": [
              "[1, 2, 3, 2, 1, 5, 6]"
            ]
          },
          "metadata": {
            "tags": []
          },
          "execution_count": 84
        }
      ]
    },
    {
      "cell_type": "code",
      "metadata": {
        "id": "vdN6H7QAjLeE",
        "colab_type": "code",
        "colab": {
          "base_uri": "https://localhost:8080/",
          "height": 34
        },
        "outputId": "111d62e0-1b5b-4e81-c562-9c9de8c9776e"
      },
      "source": [
        "# contar repeticiones de elementos en una lista\n",
        "lista = [6,5,1,2,3,2,1]\n",
        "lista.count(200)"
      ],
      "execution_count": null,
      "outputs": [
        {
          "output_type": "execute_result",
          "data": {
            "text/plain": [
              "0"
            ]
          },
          "metadata": {
            "tags": []
          },
          "execution_count": 86
        }
      ]
    },
    {
      "cell_type": "code",
      "metadata": {
        "id": "liIZM6ivhtrp",
        "colab_type": "code",
        "colab": {
          "base_uri": "https://localhost:8080/",
          "height": 35
        },
        "outputId": "e51cdf0f-da13-4d71-c8ec-5616d39308f8"
      },
      "source": [
        "# juntar elementos de una lista en un string \n",
        "\n",
        "\n",
        "\" \".join([\"hola\",\"soy\",\"javier\"])"
      ],
      "execution_count": null,
      "outputs": [
        {
          "output_type": "execute_result",
          "data": {
            "application/vnd.google.colaboratory.intrinsic+json": {
              "type": "string"
            },
            "text/plain": [
              "'hola soy javier'"
            ]
          },
          "metadata": {
            "tags": []
          },
          "execution_count": 91
        }
      ]
    },
    {
      "cell_type": "markdown",
      "metadata": {
        "id": "uwxZ5AYog_VA",
        "colab_type": "text"
      },
      "source": [
        "Más información sobre listas en Python\n",
        "\n",
        "https://docs.python.org/3.6/tutorial/datastructures.html"
      ]
    },
    {
      "cell_type": "markdown",
      "metadata": {
        "colab_type": "text",
        "id": "uN3re946WOcV"
      },
      "source": [
        "#### **Set**"
      ]
    },
    {
      "cell_type": "markdown",
      "metadata": {
        "id": "bA7DWfo6j4ps",
        "colab_type": "text"
      },
      "source": [
        "**Sin orden y sin elementos repetidos, se pueden agregar y borrar elementos**"
      ]
    },
    {
      "cell_type": "code",
      "metadata": {
        "id": "HJ620DoxleD7",
        "colab_type": "code",
        "colab": {
          "base_uri": "https://localhost:8080/",
          "height": 34
        },
        "outputId": "03b9cafa-ac57-49e3-bec4-d3ce8236e054"
      },
      "source": [
        "# definir set\n",
        "s = set([1,2,3,4,2,1])\n",
        "s"
      ],
      "execution_count": null,
      "outputs": [
        {
          "output_type": "execute_result",
          "data": {
            "text/plain": [
              "{1, 2, 3, 4}"
            ]
          },
          "metadata": {
            "tags": []
          },
          "execution_count": 92
        }
      ]
    },
    {
      "cell_type": "code",
      "metadata": {
        "id": "pnr9JyttmZYg",
        "colab_type": "code",
        "colab": {
          "base_uri": "https://localhost:8080/",
          "height": 34
        },
        "outputId": "95998483-7a8a-4012-8293-2bb1f00c1790"
      },
      "source": [
        "# mostrar tipo\n",
        "type(s)"
      ],
      "execution_count": null,
      "outputs": [
        {
          "output_type": "execute_result",
          "data": {
            "text/plain": [
              "set"
            ]
          },
          "metadata": {
            "tags": []
          },
          "execution_count": 93
        }
      ]
    },
    {
      "cell_type": "code",
      "metadata": {
        "id": "e5QWXKG0mMP9",
        "colab_type": "code",
        "colab": {
          "base_uri": "https://localhost:8080/",
          "height": 34
        },
        "outputId": "9bb8ce44-34b5-4eeb-a18c-f2a275a6f5cf"
      },
      "source": [
        "# agregar elemento\n",
        "s.add(10)\n",
        "s"
      ],
      "execution_count": null,
      "outputs": [
        {
          "output_type": "execute_result",
          "data": {
            "text/plain": [
              "{1, 2, 3, 4, 10}"
            ]
          },
          "metadata": {
            "tags": []
          },
          "execution_count": 98
        }
      ]
    },
    {
      "cell_type": "code",
      "metadata": {
        "id": "e6o-wIMM3_1e",
        "colab_type": "code",
        "colab": {
          "base_uri": "https://localhost:8080/",
          "height": 34
        },
        "outputId": "4b3541ec-4191-4c15-a789-d6c5b97509ec"
      },
      "source": [
        "# eliminar elemento\n",
        "s.remove(10)\n",
        "s"
      ],
      "execution_count": null,
      "outputs": [
        {
          "output_type": "execute_result",
          "data": {
            "text/plain": [
              "{1, 2, 3, 4}"
            ]
          },
          "metadata": {
            "tags": []
          },
          "execution_count": 99
        }
      ]
    },
    {
      "cell_type": "markdown",
      "metadata": {
        "id": "7XPjj9vlTb95",
        "colab_type": "text"
      },
      "source": [
        "union interseccion y subconjunto"
      ]
    },
    {
      "cell_type": "code",
      "metadata": {
        "id": "E6jAawpzci5z",
        "colab_type": "code",
        "colab": {}
      },
      "source": [
        "s = set([2])\n",
        "s_2 = set([2,3,4,8])"
      ],
      "execution_count": null,
      "outputs": []
    },
    {
      "cell_type": "code",
      "metadata": {
        "id": "4aRUPpqB4Eug",
        "colab_type": "code",
        "colab": {
          "base_uri": "https://localhost:8080/",
          "height": 34
        },
        "outputId": "58147b66-b4f7-44dc-d5f1-a77530cebbd5"
      },
      "source": [
        "# union\n",
        "s.union(s_2)"
      ],
      "execution_count": null,
      "outputs": [
        {
          "output_type": "execute_result",
          "data": {
            "text/plain": [
              "{2, 3, 4, 8}"
            ]
          },
          "metadata": {
            "tags": []
          },
          "execution_count": 107
        }
      ]
    },
    {
      "cell_type": "code",
      "metadata": {
        "id": "9bkiQTSL4ExM",
        "colab_type": "code",
        "colab": {
          "base_uri": "https://localhost:8080/",
          "height": 34
        },
        "outputId": "f7c1e037-2c23-4f0e-a299-6fcb03d3310a"
      },
      "source": [
        "# interseccion\n",
        "s.intersection(s_2)"
      ],
      "execution_count": null,
      "outputs": [
        {
          "output_type": "execute_result",
          "data": {
            "text/plain": [
              "{2}"
            ]
          },
          "metadata": {
            "tags": []
          },
          "execution_count": 108
        }
      ]
    },
    {
      "cell_type": "code",
      "metadata": {
        "id": "FTgSdS1Q4E0Q",
        "colab_type": "code",
        "colab": {
          "base_uri": "https://localhost:8080/",
          "height": 34
        },
        "outputId": "c3b3de21-981c-44f7-ab7f-d5e8ac0eddf1"
      },
      "source": [
        "# subconjunto\n",
        "s.issubset(s_2)"
      ],
      "execution_count": null,
      "outputs": [
        {
          "output_type": "execute_result",
          "data": {
            "text/plain": [
              "True"
            ]
          },
          "metadata": {
            "tags": []
          },
          "execution_count": 109
        }
      ]
    },
    {
      "cell_type": "markdown",
      "metadata": {
        "colab_type": "text",
        "id": "7m0injM0WOf2"
      },
      "source": [
        "#### **Tuple**"
      ]
    },
    {
      "cell_type": "markdown",
      "metadata": {
        "colab_type": "text",
        "id": "tIyMvhNWlx6j"
      },
      "source": [
        "**Con orden y con elementos repetidos, NO se pueden agregar ni borrar elementos**"
      ]
    },
    {
      "cell_type": "code",
      "metadata": {
        "id": "KEb4GMS7lIQQ",
        "colab_type": "code",
        "colab": {
          "base_uri": "https://localhost:8080/",
          "height": 34
        },
        "outputId": "66752343-8b76-402c-f8e8-f56a5bb106cc"
      },
      "source": [
        "# definir tuplas\n",
        "tuple([\"a\",\"b\"])"
      ],
      "execution_count": null,
      "outputs": [
        {
          "output_type": "execute_result",
          "data": {
            "text/plain": [
              "('a', 'b')"
            ]
          },
          "metadata": {
            "tags": []
          },
          "execution_count": 1
        }
      ]
    },
    {
      "cell_type": "code",
      "metadata": {
        "id": "hMCqNFtslA6s",
        "colab_type": "code",
        "colab": {
          "base_uri": "https://localhost:8080/",
          "height": 34
        },
        "outputId": "6243f190-8f17-4511-9717-0e47fc5679ea"
      },
      "source": [
        "(\"a\",\"b\")"
      ],
      "execution_count": null,
      "outputs": [
        {
          "output_type": "execute_result",
          "data": {
            "text/plain": [
              "('a', 'b')"
            ]
          },
          "metadata": {
            "tags": []
          },
          "execution_count": 2
        }
      ]
    },
    {
      "cell_type": "code",
      "metadata": {
        "id": "5SNk4BpklEwP",
        "colab_type": "code",
        "colab": {}
      },
      "source": [
        ""
      ],
      "execution_count": null,
      "outputs": []
    },
    {
      "cell_type": "code",
      "metadata": {
        "id": "F8ZmpBZenDDl",
        "colab_type": "code",
        "colab": {
          "base_uri": "https://localhost:8080/",
          "height": 34
        },
        "outputId": "c279a574-a20b-4349-9400-50cbee14b96e"
      },
      "source": [
        "# count en tuplas\n",
        "(\"a\",\"b\").count(\"a\")"
      ],
      "execution_count": null,
      "outputs": [
        {
          "output_type": "execute_result",
          "data": {
            "text/plain": [
              "1"
            ]
          },
          "metadata": {
            "tags": []
          },
          "execution_count": 4
        }
      ]
    },
    {
      "cell_type": "markdown",
      "metadata": {
        "id": "cImlzC9hksvq",
        "colab_type": "text"
      },
      "source": [
        "#### **Dictionary**\n"
      ]
    },
    {
      "cell_type": "markdown",
      "metadata": {
        "id": "bEJOH9AqoaYr",
        "colab_type": "text"
      },
      "source": [
        "**Sin orden, se accede a los elementos por su 'key'**"
      ]
    },
    {
      "cell_type": "code",
      "metadata": {
        "id": "uwcXWaL8nUPx",
        "colab_type": "code",
        "colab": {}
      },
      "source": [
        "# definir diccionario\n",
        "d = {\"clave\":1,\"clave_2\":2}"
      ],
      "execution_count": null,
      "outputs": []
    },
    {
      "cell_type": "code",
      "metadata": {
        "id": "qgpSYCiblfbQ",
        "colab_type": "code",
        "colab": {
          "base_uri": "https://localhost:8080/",
          "height": 34
        },
        "outputId": "df8c343a-9e76-4218-ce31-f377fa0b32c1"
      },
      "source": [
        "d"
      ],
      "execution_count": null,
      "outputs": [
        {
          "output_type": "execute_result",
          "data": {
            "text/plain": [
              "{'clave': 1, 'clave_2': 2}"
            ]
          },
          "metadata": {
            "tags": []
          },
          "execution_count": 6
        }
      ]
    },
    {
      "cell_type": "code",
      "metadata": {
        "id": "FbYyfxR4nUSh",
        "colab_type": "code",
        "colab": {
          "base_uri": "https://localhost:8080/",
          "height": 34
        },
        "outputId": "c05aab8e-c118-41d9-c686-542af45c6686"
      },
      "source": [
        "# acceder elemento\n",
        "d[\"clave\"]"
      ],
      "execution_count": null,
      "outputs": [
        {
          "output_type": "execute_result",
          "data": {
            "text/plain": [
              "1"
            ]
          },
          "metadata": {
            "tags": []
          },
          "execution_count": 7
        }
      ]
    },
    {
      "cell_type": "code",
      "metadata": {
        "id": "wtPBKrEToNHB",
        "colab_type": "code",
        "colab": {}
      },
      "source": [
        "# agregar elemento\n",
        "d[\"clave_3\"] = 3"
      ],
      "execution_count": null,
      "outputs": []
    },
    {
      "cell_type": "code",
      "metadata": {
        "id": "EDbzZ_g3lnL0",
        "colab_type": "code",
        "colab": {}
      },
      "source": [
        "d[\"clave_3\"] = 4"
      ],
      "execution_count": null,
      "outputs": []
    },
    {
      "cell_type": "code",
      "metadata": {
        "id": "t9pVlD_-lrN9",
        "colab_type": "code",
        "colab": {
          "base_uri": "https://localhost:8080/",
          "height": 34
        },
        "outputId": "c3e42f4b-4899-42f6-9198-6579f10c46f0"
      },
      "source": [
        "d"
      ],
      "execution_count": null,
      "outputs": [
        {
          "output_type": "execute_result",
          "data": {
            "text/plain": [
              "{'clave': 1, 'clave_2': 2, 'clave_3': 4}"
            ]
          },
          "metadata": {
            "tags": []
          },
          "execution_count": 11
        }
      ]
    },
    {
      "cell_type": "markdown",
      "metadata": {
        "id": "mDSbfklPorNP",
        "colab_type": "text"
      },
      "source": [
        "Que pasa si busco un elemento que no esta?"
      ]
    },
    {
      "cell_type": "code",
      "metadata": {
        "id": "ZjsCnFF56vwo",
        "colab_type": "code",
        "colab": {
          "base_uri": "https://localhost:8080/",
          "height": 164
        },
        "outputId": "c7900385-3cb6-43cf-b2fd-850a5fc1477b"
      },
      "source": [
        "d[\"clave_4\"]"
      ],
      "execution_count": null,
      "outputs": [
        {
          "output_type": "error",
          "ename": "KeyError",
          "evalue": "ignored",
          "traceback": [
            "\u001b[0;31m---------------------------------------------------------------------------\u001b[0m",
            "\u001b[0;31mKeyError\u001b[0m                                  Traceback (most recent call last)",
            "\u001b[0;32m<ipython-input-12-a9fe31cff056>\u001b[0m in \u001b[0;36m<module>\u001b[0;34m()\u001b[0m\n\u001b[0;32m----> 1\u001b[0;31m \u001b[0md\u001b[0m\u001b[0;34m[\u001b[0m\u001b[0;34m\"clave_4\"\u001b[0m\u001b[0;34m]\u001b[0m\u001b[0;34m\u001b[0m\u001b[0;34m\u001b[0m\u001b[0m\n\u001b[0m",
            "\u001b[0;31mKeyError\u001b[0m: 'clave_4'"
          ]
        }
      ]
    },
    {
      "cell_type": "markdown",
      "metadata": {
        "id": "c3v6h9ySyvpc",
        "colab_type": "text"
      },
      "source": [
        "Get"
      ]
    },
    {
      "cell_type": "code",
      "metadata": {
        "id": "VrwBmLMM4hSp",
        "colab_type": "code",
        "colab": {
          "base_uri": "https://localhost:8080/",
          "height": 34
        },
        "outputId": "0e2fc3fb-c571-4a76-8e65-bafd5e5e0c75"
      },
      "source": [
        "d.get(\"clave_3\",\"no esta\") #Si el elemento llamado no existe da como resultado el \"no esta\" (para este caso concreto)"
      ],
      "execution_count": null,
      "outputs": [
        {
          "output_type": "execute_result",
          "data": {
            "text/plain": [
              "4"
            ]
          },
          "metadata": {
            "tags": []
          },
          "execution_count": 14
        }
      ]
    },
    {
      "cell_type": "code",
      "metadata": {
        "id": "aQSF3Bk-ytge",
        "colab_type": "code",
        "colab": {}
      },
      "source": [
        ""
      ],
      "execution_count": null,
      "outputs": []
    },
    {
      "cell_type": "markdown",
      "metadata": {
        "id": "QbxIsFquyq7-",
        "colab_type": "text"
      },
      "source": [
        "Default Dict"
      ]
    },
    {
      "cell_type": "code",
      "metadata": {
        "id": "U0ijlUhCoNLj",
        "colab_type": "code",
        "colab": {}
      },
      "source": [
        "from collections import defaultdict"
      ],
      "execution_count": null,
      "outputs": []
    },
    {
      "cell_type": "code",
      "metadata": {
        "id": "0KwWGF4qoNJz",
        "colab_type": "code",
        "colab": {}
      },
      "source": [
        "d_2 = defaultdict(lambda:\"no esta\",d)"
      ],
      "execution_count": null,
      "outputs": []
    },
    {
      "cell_type": "code",
      "metadata": {
        "id": "ClwOUwBxmLZm",
        "colab_type": "code",
        "colab": {
          "base_uri": "https://localhost:8080/",
          "height": 34
        },
        "outputId": "3b51b27d-f560-4323-b612-25acbd2f1664"
      },
      "source": [
        "d_2[\"clave_3\"]"
      ],
      "execution_count": null,
      "outputs": [
        {
          "output_type": "execute_result",
          "data": {
            "text/plain": [
              "4"
            ]
          },
          "metadata": {
            "tags": []
          },
          "execution_count": 20
        }
      ]
    },
    {
      "cell_type": "markdown",
      "metadata": {
        "id": "SW3_zeWzVkGg",
        "colab_type": "text"
      },
      "source": [
        "### **Estructuras de control**"
      ]
    },
    {
      "cell_type": "markdown",
      "metadata": {
        "id": "i8bGVowyVb0I",
        "colab_type": "text"
      },
      "source": [
        "#### **If**"
      ]
    },
    {
      "cell_type": "code",
      "metadata": {
        "id": "SpkSEOC0Iv8Q",
        "colab_type": "code",
        "colab": {
          "base_uri": "https://localhost:8080/",
          "height": 34
        },
        "outputId": "18fa6237-680a-40a7-8c28-a0fb44df3b1a"
      },
      "source": [
        "# If Simple\n",
        "if 3 > 2:\n",
        "  print(\"SI\")"
      ],
      "execution_count": null,
      "outputs": [
        {
          "output_type": "stream",
          "text": [
            "SI\n"
          ],
          "name": "stdout"
        }
      ]
    },
    {
      "cell_type": "code",
      "metadata": {
        "id": "CbJXeRewIv_e",
        "colab_type": "code",
        "colab": {
          "base_uri": "https://localhost:8080/",
          "height": 34
        },
        "outputId": "376c0ed0-a159-4d63-9a58-4f2e12ff42b7"
      },
      "source": [
        "# If - Else\n",
        "if 2 > 3:\n",
        "  print(\"NO\")\n",
        "else:\n",
        "  print(\"SI\")"
      ],
      "execution_count": null,
      "outputs": [
        {
          "output_type": "stream",
          "text": [
            "SI\n"
          ],
          "name": "stdout"
        }
      ]
    },
    {
      "cell_type": "code",
      "metadata": {
        "id": "3AnHIInxLf8j",
        "colab_type": "code",
        "colab": {
          "base_uri": "https://localhost:8080/",
          "height": 34
        },
        "outputId": "3b0e8e45-0d29-4fdb-f756-6c24af66bf91"
      },
      "source": [
        "# If - Elif - Else\n",
        "# If - Else\n",
        "if 2 > 3:\n",
        "  print(\"NO\")\n",
        "elif 3 > 2:\n",
        "  print(\"ELIF\")\n",
        "else:\n",
        "  print(\"SI\")"
      ],
      "execution_count": null,
      "outputs": [
        {
          "output_type": "stream",
          "text": [
            "ELIF\n"
          ],
          "name": "stdout"
        }
      ]
    },
    {
      "cell_type": "code",
      "metadata": {
        "id": "Pdb3hnNoLy-y",
        "colab_type": "code",
        "colab": {
          "base_uri": "https://localhost:8080/",
          "height": 34
        },
        "outputId": "8b931272-1d03-476b-8cb0-d52e45bea7ef"
      },
      "source": [
        "# One-liner\n",
        "print(\"HOLA\") if 3 > 2 else print(\"CHAU\")"
      ],
      "execution_count": null,
      "outputs": [
        {
          "output_type": "stream",
          "text": [
            "HOLA\n"
          ],
          "name": "stdout"
        }
      ]
    },
    {
      "cell_type": "markdown",
      "metadata": {
        "colab_type": "text",
        "id": "9tTcCHQDVooT"
      },
      "source": [
        "#### **For**"
      ]
    },
    {
      "cell_type": "markdown",
      "metadata": {
        "id": "ZlyB0WK2MYLq",
        "colab_type": "text"
      },
      "source": [
        "For simple iterando por una numero fijo"
      ]
    },
    {
      "cell_type": "code",
      "metadata": {
        "id": "WbP2HEMLMoLe",
        "colab_type": "code",
        "colab": {
          "base_uri": "https://localhost:8080/",
          "height": 68
        },
        "outputId": "a1137543-7e31-421d-a296-b535081c0ea5"
      },
      "source": [
        "# range\n",
        "for i in range(1,50,20):\n",
        "  print(i)"
      ],
      "execution_count": null,
      "outputs": [
        {
          "output_type": "stream",
          "text": [
            "1\n",
            "21\n",
            "41\n"
          ],
          "name": "stdout"
        }
      ]
    },
    {
      "cell_type": "markdown",
      "metadata": {
        "id": "Z4zdbeyQMU9l",
        "colab_type": "text"
      },
      "source": [
        "Iterar sobre una lista, set , tupla o incluso string!!"
      ]
    },
    {
      "cell_type": "code",
      "metadata": {
        "id": "NVoZE38kM4M-",
        "colab_type": "code",
        "colab": {}
      },
      "source": [
        "# definiciones\n",
        "mi_lista = [\"a\",\"b\",\"c\"]\n",
        "mi_set = set([1,2,3])\n",
        "mi_tupla = (\"uno\",\"dos\",\"tres\")"
      ],
      "execution_count": null,
      "outputs": []
    },
    {
      "cell_type": "code",
      "metadata": {
        "id": "17kGVR1kM4K2",
        "colab_type": "code",
        "colab": {
          "base_uri": "https://localhost:8080/",
          "height": 68
        },
        "outputId": "e3ec92e0-ca5a-4b09-a53e-a95ff0a72de7"
      },
      "source": [
        "# iterar en lista\n",
        "for l in mi_lista:\n",
        "  print(l+\"_senpai\")"
      ],
      "execution_count": null,
      "outputs": [
        {
          "output_type": "stream",
          "text": [
            "a_senpai\n",
            "b_senpai\n",
            "c_senpai\n"
          ],
          "name": "stdout"
        }
      ]
    },
    {
      "cell_type": "code",
      "metadata": {
        "id": "MIISCPjA4zqU",
        "colab_type": "code",
        "colab": {
          "base_uri": "https://localhost:8080/",
          "height": 68
        },
        "outputId": "61206ee9-7287-40c0-dda2-20b8af9855e7"
      },
      "source": [
        "# iterar en set\n",
        "for l in mi_set:\n",
        "  print(l)"
      ],
      "execution_count": null,
      "outputs": [
        {
          "output_type": "stream",
          "text": [
            "1\n",
            "2\n",
            "3\n"
          ],
          "name": "stdout"
        }
      ]
    },
    {
      "cell_type": "code",
      "metadata": {
        "id": "ijARaMjO4zu3",
        "colab_type": "code",
        "colab": {
          "base_uri": "https://localhost:8080/",
          "height": 68
        },
        "outputId": "7ed10818-5c48-431d-8492-6ecde2ce4a58"
      },
      "source": [
        "# iterar en tupla\n",
        "for l in mi_tupla:\n",
        "  print(l)"
      ],
      "execution_count": null,
      "outputs": [
        {
          "output_type": "stream",
          "text": [
            "uno\n",
            "dos\n",
            "tres\n"
          ],
          "name": "stdout"
        }
      ]
    },
    {
      "cell_type": "code",
      "metadata": {
        "id": "wUKfMsmt4zoE",
        "colab_type": "code",
        "colab": {
          "base_uri": "https://localhost:8080/",
          "height": 136
        },
        "outputId": "c9ee918d-19f9-4985-856c-f548da7d9d2c"
      },
      "source": [
        "# iterar en string\n",
        "for letra in \"palabra\":\n",
        "  print(letra)"
      ],
      "execution_count": null,
      "outputs": [
        {
          "output_type": "stream",
          "text": [
            "p\n",
            "a\n",
            "l\n",
            "a\n",
            "b\n",
            "r\n",
            "a\n"
          ],
          "name": "stdout"
        }
      ]
    },
    {
      "cell_type": "code",
      "metadata": {
        "id": "NiYo4JPn5EGC",
        "colab_type": "code",
        "colab": {
          "base_uri": "https://localhost:8080/",
          "height": 50
        },
        "outputId": "f70ec24b-40f9-442c-b2e1-bca480717d92"
      },
      "source": [
        "d = {\"Lionel\":\"Messi\",\"Cristiano\":\"Ronaldo\"}\n",
        "\n",
        "# iterar en diccionarios\n",
        "for key, value in d.items():\n",
        "  print(key,\"=>\",value)"
      ],
      "execution_count": null,
      "outputs": [
        {
          "output_type": "stream",
          "text": [
            "Lionel => Messi\n",
            "Cristiano => Ronaldo\n"
          ],
          "name": "stdout"
        }
      ]
    },
    {
      "cell_type": "code",
      "metadata": {
        "id": "PE2uDn4foaPf",
        "colab_type": "code",
        "colab": {
          "base_uri": "https://localhost:8080/",
          "height": 34
        },
        "outputId": "f0cb4893-3b9f-47a0-f60d-b03ea4a0d254"
      },
      "source": [
        "d.keys()"
      ],
      "execution_count": null,
      "outputs": [
        {
          "output_type": "execute_result",
          "data": {
            "text/plain": [
              "dict_keys(['Lionel', 'Cristiano'])"
            ]
          },
          "metadata": {
            "tags": []
          },
          "execution_count": 42
        }
      ]
    },
    {
      "cell_type": "markdown",
      "metadata": {
        "id": "2QQPodMBinZc",
        "colab_type": "text"
      },
      "source": [
        "A veces es util poder tener ademas del valor, la posicion en la lista"
      ]
    },
    {
      "cell_type": "code",
      "metadata": {
        "id": "OIwRylyBiukv",
        "colab_type": "code",
        "colab": {
          "base_uri": "https://localhost:8080/",
          "height": 34
        },
        "outputId": "55be3dde-02bc-433f-e9a4-ba27d4c4fa44"
      },
      "source": [
        "# enumerate\n",
        "mi_lista"
      ],
      "execution_count": null,
      "outputs": [
        {
          "output_type": "execute_result",
          "data": {
            "text/plain": [
              "['a', 'b', 'c']"
            ]
          },
          "metadata": {
            "tags": []
          },
          "execution_count": 43
        }
      ]
    },
    {
      "cell_type": "code",
      "metadata": {
        "id": "LrJG8tCtojdV",
        "colab_type": "code",
        "colab": {
          "base_uri": "https://localhost:8080/",
          "height": 67
        },
        "outputId": "d85a2bbb-aaaa-4170-9673-ec48e6791246"
      },
      "source": [
        "for pos,valor in enumerate(mi_lista):\n",
        "  print(pos,valor)"
      ],
      "execution_count": null,
      "outputs": [
        {
          "output_type": "stream",
          "text": [
            "0 a\n",
            "1 b\n",
            "2 c\n"
          ],
          "name": "stdout"
        }
      ]
    },
    {
      "cell_type": "markdown",
      "metadata": {
        "colab_type": "text",
        "id": "FJVxKu7rVpNI"
      },
      "source": [
        "#### **While**"
      ]
    },
    {
      "cell_type": "code",
      "metadata": {
        "id": "uHbNlh625EfC",
        "colab_type": "code",
        "colab": {
          "base_uri": "https://localhost:8080/",
          "height": 50
        },
        "outputId": "037e8e12-d69a-49c1-e973-bf42b3fb62b3"
      },
      "source": [
        "# simple while\n",
        "a = 1\n",
        "while a < 3:\n",
        "  print(a)\n",
        "  a+=1"
      ],
      "execution_count": null,
      "outputs": [
        {
          "output_type": "stream",
          "text": [
            "1\n",
            "2\n"
          ],
          "name": "stdout"
        }
      ]
    },
    {
      "cell_type": "markdown",
      "metadata": {
        "id": "2nUpr5ChfkI2",
        "colab_type": "text"
      },
      "source": [
        "### **Funciones**"
      ]
    },
    {
      "cell_type": "code",
      "metadata": {
        "id": "Hg2aCwPoygQv",
        "colab_type": "code",
        "colab": {}
      },
      "source": [
        "# funcion simple \n",
        "def funcion(p_1, p_2):\n",
        "  return p_1 + p_2"
      ],
      "execution_count": null,
      "outputs": []
    },
    {
      "cell_type": "code",
      "metadata": {
        "id": "_2o1oODxpPWn",
        "colab_type": "code",
        "colab": {
          "base_uri": "https://localhost:8080/",
          "height": 35
        },
        "outputId": "296cc607-4218-4500-8860-c8056c80a473"
      },
      "source": [
        "funcion(\"hola soy\",\" Javier\")"
      ],
      "execution_count": null,
      "outputs": [
        {
          "output_type": "execute_result",
          "data": {
            "application/vnd.google.colaboratory.intrinsic+json": {
              "type": "string"
            },
            "text/plain": [
              "'hola soy Javier'"
            ]
          },
          "metadata": {
            "tags": []
          },
          "execution_count": 49
        }
      ]
    },
    {
      "cell_type": "markdown",
      "metadata": {
        "id": "VYAH8MYuPtIs",
        "colab_type": "text"
      },
      "source": [
        "Se pueden especificar los tipos de las variables de entrada y salida, pero estos no van a tener ningun efecto de validacion, son solo para que el programador lo tenga en cuenta"
      ]
    },
    {
      "cell_type": "code",
      "metadata": {
        "id": "DVEWXWHcOj8n",
        "colab_type": "code",
        "colab": {}
      },
      "source": [
        "# funcion con parametros con tipo\n",
        "# funcion simple \n",
        "def funcion_int(p_1:int, p_2:int)->int:\n",
        "  return p_1 + p_2"
      ],
      "execution_count": null,
      "outputs": []
    },
    {
      "cell_type": "code",
      "metadata": {
        "id": "gy3c2rQfpg7b",
        "colab_type": "code",
        "colab": {
          "base_uri": "https://localhost:8080/",
          "height": 35
        },
        "outputId": "4a703679-9175-4478-a505-ecece347b2b2"
      },
      "source": [
        "funcion_int(\"hola soy\",\" Javier\")"
      ],
      "execution_count": null,
      "outputs": [
        {
          "output_type": "execute_result",
          "data": {
            "application/vnd.google.colaboratory.intrinsic+json": {
              "type": "string"
            },
            "text/plain": [
              "'hola soy Javier'"
            ]
          },
          "metadata": {
            "tags": []
          },
          "execution_count": 53
        }
      ]
    },
    {
      "cell_type": "code",
      "metadata": {
        "id": "1eRNwrZU5mjQ",
        "colab_type": "code",
        "colab": {}
      },
      "source": [
        "# parametros por defecto\n",
        "def cuadrado(p,x=True):\n",
        "  if p:\n",
        "    print(\"mi valor es:\", x**2)\n",
        "  return x **2"
      ],
      "execution_count": null,
      "outputs": []
    },
    {
      "cell_type": "code",
      "metadata": {
        "id": "jnDPiInjp7SC",
        "colab_type": "code",
        "colab": {
          "base_uri": "https://localhost:8080/",
          "height": 34
        },
        "outputId": "e5b69cf1-3824-4936-e801-64b475c4e3d1"
      },
      "source": [
        "cuadrado(4,False)"
      ],
      "execution_count": null,
      "outputs": [
        {
          "output_type": "execute_result",
          "data": {
            "text/plain": [
              "16"
            ]
          },
          "metadata": {
            "tags": []
          },
          "execution_count": 59
        }
      ]
    },
    {
      "cell_type": "markdown",
      "metadata": {
        "id": "j0MXazamP82M",
        "colab_type": "text"
      },
      "source": [
        "Unpacking"
      ]
    },
    {
      "cell_type": "code",
      "metadata": {
        "id": "8GrV4zk85Pnt",
        "colab_type": "code",
        "colab": {}
      },
      "source": [
        "# unpacking en funciones"
      ],
      "execution_count": null,
      "outputs": []
    },
    {
      "cell_type": "code",
      "metadata": {
        "id": "yYKdn3izqQBy",
        "colab_type": "code",
        "colab": {}
      },
      "source": [
        "a,b,c = mi_lista"
      ],
      "execution_count": null,
      "outputs": []
    },
    {
      "cell_type": "code",
      "metadata": {
        "id": "5qvc4HHgqVBd",
        "colab_type": "code",
        "colab": {
          "base_uri": "https://localhost:8080/",
          "height": 35
        },
        "outputId": "fa266364-28f5-48c3-ff86-12496c68a338"
      },
      "source": [
        "c"
      ],
      "execution_count": null,
      "outputs": [
        {
          "output_type": "execute_result",
          "data": {
            "application/vnd.google.colaboratory.intrinsic+json": {
              "type": "string"
            },
            "text/plain": [
              "'c'"
            ]
          },
          "metadata": {
            "tags": []
          },
          "execution_count": 66
        }
      ]
    },
    {
      "cell_type": "markdown",
      "metadata": {
        "id": "nXVTQ4bnQUpF",
        "colab_type": "text"
      },
      "source": [
        "Funciona para cualquier estructura de datos (Observar que el resultado de la funcion anterior es una tupla)"
      ]
    },
    {
      "cell_type": "code",
      "metadata": {
        "id": "Qdnt4jZEQinB",
        "colab_type": "code",
        "colab": {}
      },
      "source": [
        "# mostrar tipo de salida"
      ],
      "execution_count": null,
      "outputs": []
    },
    {
      "cell_type": "code",
      "metadata": {
        "id": "uz9CajnZPlQJ",
        "colab_type": "code",
        "colab": {}
      },
      "source": [
        "# unpacking en listas"
      ],
      "execution_count": null,
      "outputs": []
    },
    {
      "cell_type": "markdown",
      "metadata": {
        "id": "h7aMID6PQ4Ln",
        "colab_type": "text"
      },
      "source": [
        "Concatenar funciones"
      ]
    },
    {
      "cell_type": "code",
      "metadata": {
        "id": "PlduLu8vQzKE",
        "colab_type": "code",
        "colab": {}
      },
      "source": [
        "# sumar 2 numeros\n",
        "def suma_2(i_1,i_2):\n",
        "  return i_1 + i_2"
      ],
      "execution_count": null,
      "outputs": []
    },
    {
      "cell_type": "code",
      "metadata": {
        "id": "3gcCrh1gQzHX",
        "colab_type": "code",
        "colab": {}
      },
      "source": [
        "# sumar 4 numeros (usando funcion anterior)\n",
        "def suma_4(i_1,i_2,i_3,i_4):\n",
        "  return suma_2(suma_2(i_1,i_2),suma_2(i_3,i_4))"
      ],
      "execution_count": null,
      "outputs": []
    },
    {
      "cell_type": "code",
      "metadata": {
        "id": "bu-vR7lmqq5w",
        "colab_type": "code",
        "colab": {
          "base_uri": "https://localhost:8080/",
          "height": 34
        },
        "outputId": "25d395f1-8932-40aa-e87d-d531cea8c678"
      },
      "source": [
        "suma_4(1,2,3,4)"
      ],
      "execution_count": null,
      "outputs": [
        {
          "output_type": "execute_result",
          "data": {
            "text/plain": [
              "10"
            ]
          },
          "metadata": {
            "tags": []
          },
          "execution_count": 69
        }
      ]
    },
    {
      "cell_type": "markdown",
      "metadata": {
        "id": "VTlP7pPSRy2o",
        "colab_type": "text"
      },
      "source": [
        "Como se haria una funcion general para sumar n números?"
      ]
    },
    {
      "cell_type": "markdown",
      "metadata": {
        "id": "up_zU20yssbY",
        "colab_type": "text"
      },
      "source": [
        "**args and kwargs**\n",
        "\n",
        "args se usa para pasar una cantidad desconocida de parametros, en los cuales el nombre de la variable NO importa\n",
        "\n",
        "\n",
        "\n"
      ]
    },
    {
      "cell_type": "code",
      "metadata": {
        "id": "EpjdBDX3RtYk",
        "colab_type": "code",
        "colab": {}
      },
      "source": [
        "# args\n",
        "def funcion_args(*args):\n",
        "  resultado = \"\"\n",
        "  for v in args:\n",
        "    resultado+=v\n",
        "  return resultado"
      ],
      "execution_count": null,
      "outputs": []
    },
    {
      "cell_type": "code",
      "metadata": {
        "id": "4ibhzojDrB31",
        "colab_type": "code",
        "colab": {
          "base_uri": "https://localhost:8080/",
          "height": 35
        },
        "outputId": "83191baa-6b6d-4bfc-da1c-2d3f1386bcb3"
      },
      "source": [
        "funcion_args(\"hola\",\"javier\")\n"
      ],
      "execution_count": null,
      "outputs": [
        {
          "output_type": "execute_result",
          "data": {
            "application/vnd.google.colaboratory.intrinsic+json": {
              "type": "string"
            },
            "text/plain": [
              "'holajavier'"
            ]
          },
          "metadata": {
            "tags": []
          },
          "execution_count": 77
        }
      ]
    },
    {
      "cell_type": "markdown",
      "metadata": {
        "id": "hsFga8F-tqJE",
        "colab_type": "text"
      },
      "source": [
        "kargs se usa para pasar una cantidad desconocida de parametros, en los cuales el nombre de la variable importa"
      ]
    },
    {
      "cell_type": "code",
      "metadata": {
        "id": "kxcmbKuxtiIG",
        "colab_type": "code",
        "colab": {}
      },
      "source": [
        "# kargs\n",
        "def funcion_kargs(**kargs):\n",
        "  for key,value in kargs.items():\n",
        "    print(key,\"=>\",value)"
      ],
      "execution_count": null,
      "outputs": []
    },
    {
      "cell_type": "code",
      "metadata": {
        "id": "jMQF6S_frq00",
        "colab_type": "code",
        "colab": {
          "base_uri": "https://localhost:8080/",
          "height": 129
        },
        "outputId": "f953ff21-f454-49de-d7d8-b2cd2e410c14"
      },
      "source": [
        "funcion_kargs(nombre=\"Lionel\",apellido=\"Messi\")"
      ],
      "execution_count": null,
      "outputs": [
        {
          "output_type": "error",
          "ename": "SyntaxError",
          "evalue": "ignored",
          "traceback": [
            "\u001b[0;36m  File \u001b[0;32m\"<ipython-input-81-d54626659c6c>\"\u001b[0;36m, line \u001b[0;32m1\u001b[0m\n\u001b[0;31m    funcion_kargs(nombre=\"Lionel\",apellido=\"Messi\",3)\u001b[0m\n\u001b[0m                                                  ^\u001b[0m\n\u001b[0;31mSyntaxError\u001b[0m\u001b[0;31m:\u001b[0m positional argument follows keyword argument\n"
          ]
        }
      ]
    },
    {
      "cell_type": "code",
      "metadata": {
        "id": "B-pDvRE_sJqI",
        "colab_type": "code",
        "colab": {}
      },
      "source": [
        "def f(*args,**kargs):\n",
        "  "
      ],
      "execution_count": null,
      "outputs": []
    },
    {
      "cell_type": "markdown",
      "metadata": {
        "id": "bjy6EvYyvCnU",
        "colab_type": "text"
      },
      "source": [
        "Funciones anónimas"
      ]
    },
    {
      "cell_type": "code",
      "metadata": {
        "id": "7t96TK80ygT0",
        "colab_type": "code",
        "colab": {}
      },
      "source": [
        "# lambda\n",
        "\n",
        "cubo_mas_const = lambda x,y: x**3+y"
      ],
      "execution_count": null,
      "outputs": []
    },
    {
      "cell_type": "code",
      "metadata": {
        "id": "4P2ieCfwsV_u",
        "colab_type": "code",
        "colab": {
          "base_uri": "https://localhost:8080/",
          "height": 34
        },
        "outputId": "4b1c8242-1c67-4649-8d31-ed2ca85c4b01"
      },
      "source": [
        "cubo_mas_const(3,2)"
      ],
      "execution_count": null,
      "outputs": [
        {
          "output_type": "execute_result",
          "data": {
            "text/plain": [
              "29"
            ]
          },
          "metadata": {
            "tags": []
          },
          "execution_count": 86
        }
      ]
    },
    {
      "cell_type": "markdown",
      "metadata": {
        "id": "AwfHO0hRvDJD",
        "colab_type": "text"
      },
      "source": [
        "Veremos más adelante cuando nos pueden resultar utiles al trabajar con Pandas\n",
        "\n",
        "Para ver casos de uso https://stackabuse.com/lambda-functions-in-python/"
      ]
    },
    {
      "cell_type": "markdown",
      "metadata": {
        "id": "cptuz-gLfqca",
        "colab_type": "text"
      },
      "source": [
        "### **Pythonic Code**"
      ]
    },
    {
      "cell_type": "markdown",
      "metadata": {
        "id": "t_S5UmncwBnE",
        "colab_type": "text"
      },
      "source": [
        "List Comprehension\n",
        "\n",
        "Crear listas a partir de otras listas (tambien funciona para diccioanrios)"
      ]
    },
    {
      "cell_type": "code",
      "metadata": {
        "id": "0VaMKXl5yhh2",
        "colab_type": "code",
        "colab": {
          "base_uri": "https://localhost:8080/",
          "height": 34
        },
        "outputId": "e94d9643-6adc-4c12-87d1-2f8322f42154"
      },
      "source": [
        "# creo lista de numeros del 0 al 5\n",
        "lista_5 = [numero for numero in range(6)]\n",
        "lista_5 \n"
      ],
      "execution_count": null,
      "outputs": [
        {
          "output_type": "execute_result",
          "data": {
            "text/plain": [
              "[0, 1, 2, 3, 4, 5]"
            ]
          },
          "metadata": {
            "tags": []
          },
          "execution_count": 90
        }
      ]
    },
    {
      "cell_type": "code",
      "metadata": {
        "id": "zzYZYTrgwVUe",
        "colab_type": "code",
        "colab": {
          "base_uri": "https://localhost:8080/",
          "height": 34
        },
        "outputId": "0862fb00-50d4-4ed0-c6f8-c9f7753ebe1d"
      },
      "source": [
        "# creo lista con los pares\n",
        "[numero for numero in lista_5 if numero % 2 == 0]"
      ],
      "execution_count": null,
      "outputs": [
        {
          "output_type": "execute_result",
          "data": {
            "text/plain": [
              "[0, 2, 4]"
            ]
          },
          "metadata": {
            "tags": []
          },
          "execution_count": 94
        }
      ]
    },
    {
      "cell_type": "code",
      "metadata": {
        "id": "GskZpxWgwVSA",
        "colab_type": "code",
        "colab": {
          "base_uri": "https://localhost:8080/",
          "height": 34
        },
        "outputId": "0a07a266-135e-4d1d-e518-e21b2904f7e4"
      },
      "source": [
        "# pongo la palabra par en los numeros pares e impar en los numeros impares\n",
        "[\"par\" if numero % 2 == 0 else \"impar\" for numero in lista_5]"
      ],
      "execution_count": null,
      "outputs": [
        {
          "output_type": "execute_result",
          "data": {
            "text/plain": [
              "['par', 'impar', 'par', 'impar', 'par', 'impar']"
            ]
          },
          "metadata": {
            "tags": []
          },
          "execution_count": 95
        }
      ]
    },
    {
      "cell_type": "code",
      "metadata": {
        "id": "njR45aucyr3O",
        "colab_type": "code",
        "colab": {}
      },
      "source": [
        "# todos los numeros primos del 0 al 50\n",
        "\n",
        "def test_prime(n):\n",
        "  if (n==1):\n",
        "    return False\n",
        "  elif (n==2):\n",
        "      return True\n",
        "  else:\n",
        "        for x in range(2,n):\n",
        "          if(n % x==0):\n",
        "            return False\n",
        "        return True\n",
        "\n"
      ],
      "execution_count": null,
      "outputs": []
    },
    {
      "cell_type": "code",
      "metadata": {
        "id": "ozNd__swNeYq",
        "colab_type": "code",
        "colab": {
          "base_uri": "https://localhost:8080/",
          "height": 34
        },
        "outputId": "3e3bb679-a22b-4406-c2ce-c080682110c0"
      },
      "source": [
        "test_prime(2)"
      ],
      "execution_count": null,
      "outputs": [
        {
          "output_type": "execute_result",
          "data": {
            "text/plain": [
              "True"
            ]
          },
          "metadata": {
            "tags": []
          },
          "execution_count": 8
        }
      ]
    },
    {
      "cell_type": "markdown",
      "metadata": {
        "id": "B2Ti2HjC0WpF",
        "colab_type": "text"
      },
      "source": [
        "Iterar sobre dos listas a la vez"
      ]
    },
    {
      "cell_type": "code",
      "metadata": {
        "id": "MoL-1Sil0TIp",
        "colab_type": "code",
        "colab": {
          "base_uri": "https://localhost:8080/",
          "height": 50
        },
        "outputId": "d0b26c01-8244-498f-e514-0cf43d33dc2e"
      },
      "source": [
        "# con zip\n",
        "lista_a = [\"Lionel\",\"cristiano\"]\n",
        "lista_b = [\"Messi\",\"Ronaldo\"]\n",
        "\n",
        "for nombre,apellido in zip(lista_a,lista_b):\n",
        "  print(nombre,apellido)"
      ],
      "execution_count": null,
      "outputs": [
        {
          "output_type": "stream",
          "text": [
            "Lionel Messi\n",
            "cristiano Ronaldo\n"
          ],
          "name": "stdout"
        }
      ]
    },
    {
      "cell_type": "code",
      "metadata": {
        "id": "FGMzTFHQuSK3",
        "colab_type": "code",
        "colab": {
          "base_uri": "https://localhost:8080/",
          "height": 34
        },
        "outputId": "7a5e642e-330b-4093-8fbc-f01c436484ed"
      },
      "source": [
        "dict(zip(lista_b,lista_a))"
      ],
      "execution_count": null,
      "outputs": [
        {
          "output_type": "execute_result",
          "data": {
            "text/plain": [
              "{'Messi': 'Lionel', 'Ronaldo': 'cristiano'}"
            ]
          },
          "metadata": {
            "tags": []
          },
          "execution_count": 98
        }
      ]
    },
    {
      "cell_type": "markdown",
      "metadata": {
        "id": "I5CRDpGg0QuK",
        "colab_type": "text"
      },
      "source": [
        "Crear un dict a partir de dos listas"
      ]
    },
    {
      "cell_type": "code",
      "metadata": {
        "id": "o16EpVUAuTe4",
        "colab_type": "code",
        "colab": {}
      },
      "source": [
        ""
      ],
      "execution_count": null,
      "outputs": []
    },
    {
      "cell_type": "code",
      "metadata": {
        "id": "XM9R7kuk0QSq",
        "colab_type": "code",
        "colab": {}
      },
      "source": [
        "# con zip"
      ],
      "execution_count": null,
      "outputs": []
    },
    {
      "cell_type": "markdown",
      "metadata": {
        "id": "d3gDo0WirZ_q",
        "colab_type": "text"
      },
      "source": [
        "### Aplica lo aprendido"
      ]
    },
    {
      "cell_type": "markdown",
      "metadata": {
        "id": "uSqI7qjguO4V",
        "colab_type": "text"
      },
      "source": [
        "Ejercicio 1"
      ]
    },
    {
      "cell_type": "code",
      "metadata": {
        "id": "AnKJpoIJuHfg",
        "colab_type": "code",
        "colab": {
          "base_uri": "https://localhost:8080/",
          "height": 34
        },
        "outputId": "c677e780-9605-4a97-b12b-daf22c2c3eff"
      },
      "source": [
        "# imprime los primeros 10 números divisibles entre 3 y 5\n",
        "\n",
        "# Code here\n",
        "[numero for numero in range(1000) if (numero % 3 == 0) and (numero % 5 == 0)][:11]"
      ],
      "execution_count": null,
      "outputs": [
        {
          "output_type": "execute_result",
          "data": {
            "text/plain": [
              "[0, 15, 30, 45, 60, 75, 90, 105, 120, 135, 150]"
            ]
          },
          "metadata": {
            "tags": []
          },
          "execution_count": 104
        }
      ]
    },
    {
      "cell_type": "markdown",
      "metadata": {
        "id": "bh5b3vo0u9KK",
        "colab_type": "text"
      },
      "source": [
        "Ejercicio 2"
      ]
    },
    {
      "cell_type": "code",
      "metadata": {
        "id": "AiwwO2HCvKxL",
        "colab_type": "code",
        "colab": {}
      },
      "source": [
        "# Crea una lista de listas que simule ser una matriz de forma (3,4)  3 filas 4 columnas, que represente la matriz de abajo\n",
        "\n",
        "# Creo una lista del 0 al 21\n",
        "list = [numero for numero in range (22) if numero > 9]\n",
        "#Reinicio las variables\n",
        "i = 0\n",
        "j = 0\n",
        "matrix = []\n",
        "\n",
        "#Crear la matriz esperada en formato lista de listas\n",
        "for item in list:\n",
        "  i += 1\n",
        "  if i % 4 == 0:\n",
        "    row = list [j:i]\n",
        "    #print (row)\n",
        "    matrix += [row]\n",
        "    j = i "
      ],
      "execution_count": null,
      "outputs": []
    },
    {
      "cell_type": "code",
      "metadata": {
        "id": "sU1w9W8PmFBV",
        "colab_type": "code",
        "colab": {
          "base_uri": "https://localhost:8080/",
          "height": 68
        },
        "outputId": "e81f3979-964c-41a8-a8ad-86349eea2c35"
      },
      "source": [
        "#Imprimir la lista de listas como la matriz buscada\n",
        "#print (matrix)\n",
        "row = \"\"\n",
        "for fila in matrix:\n",
        "  for item in fila:\n",
        "    item_str = str(item)\n",
        "    row = \"{} {}\".format(row,item_str)\n",
        "  print (row)\n",
        "  row = \"\""
      ],
      "execution_count": 56,
      "outputs": [
        {
          "output_type": "stream",
          "text": [
            " 10 11 12 13\n",
            " 14 15 16 17\n",
            " 18 19 20 21\n"
          ],
          "name": "stdout"
        }
      ]
    },
    {
      "cell_type": "markdown",
      "metadata": {
        "id": "MTnDC6pKvjYV",
        "colab_type": "text"
      },
      "source": [
        "\n",
        "```\n",
        "10 11 12 13\n",
        "14 15 16 17\n",
        "18 19 20 21\n",
        "```\n",
        "\n"
      ]
    },
    {
      "cell_type": "code",
      "metadata": {
        "id": "Ob5Z0Z_Qu-op",
        "colab_type": "code",
        "colab": {}
      },
      "source": [
        "# Dada esta lista de listas (matriz) imprime el elemento (2,4) \n",
        "\n",
        "# code here"
      ],
      "execution_count": null,
      "outputs": []
    },
    {
      "cell_type": "markdown",
      "metadata": {
        "id": "mjsgjJmbsvFY",
        "colab_type": "text"
      },
      "source": [
        "Ejercicio 3"
      ]
    },
    {
      "cell_type": "code",
      "metadata": {
        "id": "Ptlknm5SrtyN",
        "colab_type": "code",
        "colab": {}
      },
      "source": [
        "# Crea una funcion que reciba dos argumentos, nombre ,  apellido y devuelva la primer letra del nombre seguido de un punto y despues el apellido\n",
        "\n",
        "# Ejemplos de entradas y salidas\n",
        "# Lionel, Messi => L. Messi\n",
        "# Guido, van-Rossum => G. van-Rossum\n",
        "\n",
        "# Code here\n",
        "\n",
        "def nombre_res(nombre,apellido):\n",
        "  print(f\"{nombre.capitalize()[0]}. {apellido.capitalize()}\")\n",
        "\n"
      ],
      "execution_count": null,
      "outputs": []
    },
    {
      "cell_type": "code",
      "metadata": {
        "id": "jgCWh8aevtlV",
        "colab_type": "code",
        "colab": {
          "base_uri": "https://localhost:8080/",
          "height": 34
        },
        "outputId": "f46cb318-24ba-42ad-ec68-a906915dd0e2"
      },
      "source": [
        "nombre_res(\"lionel\",\"messi\")"
      ],
      "execution_count": null,
      "outputs": [
        {
          "output_type": "stream",
          "text": [
            "L. Messi\n"
          ],
          "name": "stdout"
        }
      ]
    },
    {
      "cell_type": "code",
      "metadata": {
        "id": "uWa0d87LszdE",
        "colab_type": "code",
        "colab": {}
      },
      "source": [
        "# Crea otra funcion modificando la de arriba, para que reciba una lista de tuplas, siendo cada tupla 2 valores nombre y apellido\n",
        "# y devuelva una lista de strings, haciendo para cada tupla el mismo procedimiento que la funcion anterior\n",
        "\n",
        "# Ejemplos de entradas y salidas\n",
        "# [(Lionel, Messi),(Cristiano, Ronaldo)] => [L. Messi, C. Ronaldo]\n",
        "# [(Roger, Federer),(Novak, Djokovic),(Rafael, Nadal)] => [R. Federer, N. Djokovic, R. Nadal] \n",
        "# [(Guido, van-Rossum)] => [G. van-Rossum]\n",
        "\n",
        "# Code here"
      ],
      "execution_count": null,
      "outputs": []
    },
    {
      "cell_type": "markdown",
      "metadata": {
        "id": "N1ogdwWEsssg",
        "colab_type": "text"
      },
      "source": [
        "Ejercicio 4"
      ]
    },
    {
      "cell_type": "code",
      "metadata": {
        "id": "7t56WBVMrqR_",
        "colab_type": "code",
        "colab": {}
      },
      "source": [
        "# Crea una funcion que sume 2 numeros (de cualquier tipo, int o float) y que devuelva el resultado redondeado a 2 cifras despues de la coma\n",
        "\n",
        "# Ejemplos de entradas y salidas\n",
        "# 2.3034, 2.89 => 5.19\n",
        "# 2.4, 2 => 4.4\n",
        "\n",
        "# Code here"
      ],
      "execution_count": null,
      "outputs": []
    },
    {
      "cell_type": "code",
      "metadata": {
        "id": "EXRDMYNjrqZ-",
        "colab_type": "code",
        "colab": {}
      },
      "source": [
        "# Crea otra funcion modificando la de arriba, para que pueda recibir una cantidad arbitraria de números\n",
        "\n",
        "# Ejemplos de entradas y salidas\n",
        "# 2.3034, 2.89, 2, 0.1909 => 7.38\n",
        "# 2.4, 2, 1.1111 => 5.51\n",
        "# 2, 3 => 5\n",
        "\n",
        "# Code here"
      ],
      "execution_count": null,
      "outputs": []
    },
    {
      "cell_type": "markdown",
      "metadata": {
        "id": "bLGdKn5PLrxJ",
        "colab_type": "text"
      },
      "source": [
        "Ejercicio 5"
      ]
    },
    {
      "cell_type": "code",
      "metadata": {
        "id": "OAwHrQxTLrIf",
        "colab_type": "code",
        "colab": {
          "base_uri": "https://localhost:8080/",
          "height": 69
        },
        "outputId": "f7d7cb31-840a-4a06-968d-dbe9defd6020"
      },
      "source": [
        "# Dado este texto:\n",
        "\n",
        "\"\"\"\n",
        "Python es un lenguaje de programación potente y facil de aprender. \n",
        "Tiene estructuras de datos de alto nivel eficientes y un simple pero efectivo sistema de programacion orientado a objetos.\n",
        "La elegante sintaxis de Python y su tipado dinamico, junto a su naturaleza interpretada lo convierten en un lenguaje ideal para scripting y\n",
        "desarrollo rapido de aplicaciones en muchas areas, para la mayoria de plataformas.\n",
        "\"\"\"\n",
        "\n",
        "# Crea un diccionario que contenga la cantidad de ocurrencias de cada palabra, deberas pasar el texto a minuscula y eliminar los simbolos\n",
        "\n",
        "# Ejemplos de entradas y salidas\n",
        "# \"Hola mi nombre James, James Bond\" => {hola:1,mi:1,nombre:1,james:2,bond:1}\n",
        "# 2.4, 2, 1.1111 => 5.51\n",
        "# 2, 3 => 5\n",
        "\n",
        "# Code here"
      ],
      "execution_count": null,
      "outputs": [
        {
          "output_type": "execute_result",
          "data": {
            "application/vnd.google.colaboratory.intrinsic+json": {
              "type": "string"
            },
            "text/plain": [
              "'\\nPython es un lenguaje de programación potente y facil de aprender. \\nTiene estructuras de datos de alto nivel eficientes y un simple pero efectivo sistema de programacion orientado a objetos.\\nLa elegante sintaxis de Python y su tipado dinamico, junto a su naturaleza interpretada lo convierten en un lenguaje ideal para scripting y\\ndesarrollo rapido de aplicaciones en muchas areas, para la mayoria de plataformas.\\n'"
            ]
          },
          "metadata": {
            "tags": []
          },
          "execution_count": 39
        }
      ]
    },
    {
      "cell_type": "markdown",
      "metadata": {
        "id": "Qwmejd1wUmUm",
        "colab_type": "text"
      },
      "source": [
        "## Para más información sobre el lenguaje Python, consultar la documentacion oficial\n",
        "\n",
        " https://docs.python.org/3/tutorial/"
      ]
    }
  ]
}